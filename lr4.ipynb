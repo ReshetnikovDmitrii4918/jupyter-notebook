{
 "cells": [
  {
   "cell_type": "code",
   "execution_count": 404,
   "id": "de986329",
   "metadata": {},
   "outputs": [],
   "source": [
    "import pandas as pd\n",
    "import numpy as np"
   ]
  },
  {
   "cell_type": "markdown",
   "id": "3f073478",
   "metadata": {},
   "source": [
    "# Запись датасета в data"
   ]
  },
  {
   "cell_type": "code",
   "execution_count": 405,
   "id": "10e9b839",
   "metadata": {},
   "outputs": [],
   "source": [
    "data = pd.read_csv('C:\\\\Users\\\\Dmitrii\\\\jupyter//3cancer.csv')"
   ]
  },
  {
   "cell_type": "markdown",
   "id": "8f152784",
   "metadata": {},
   "source": [
    "# Вывод первых 20 строк из датасета"
   ]
  },
  {
   "cell_type": "code",
   "execution_count": 406,
   "id": "ea5a0f3d",
   "metadata": {
    "scrolled": true
   },
   "outputs": [
    {
     "data": {
      "text/html": [
       "<div>\n",
       "<style scoped>\n",
       "    .dataframe tbody tr th:only-of-type {\n",
       "        vertical-align: middle;\n",
       "    }\n",
       "\n",
       "    .dataframe tbody tr th {\n",
       "        vertical-align: top;\n",
       "    }\n",
       "\n",
       "    .dataframe thead th {\n",
       "        text-align: right;\n",
       "    }\n",
       "</style>\n",
       "<table border=\"1\" class=\"dataframe\">\n",
       "  <thead>\n",
       "    <tr style=\"text-align: right;\">\n",
       "      <th></th>\n",
       "      <th>id</th>\n",
       "      <th>clump_thickness</th>\n",
       "      <th>size_uniformity</th>\n",
       "      <th>shape_uniformity</th>\n",
       "      <th>marginal_adhesion</th>\n",
       "      <th>epithelial_size</th>\n",
       "      <th>bare_nucleoli</th>\n",
       "      <th>bland_chromatin</th>\n",
       "      <th>normal_nucleoli</th>\n",
       "      <th>mitoses</th>\n",
       "      <th>class</th>\n",
       "    </tr>\n",
       "  </thead>\n",
       "  <tbody>\n",
       "    <tr>\n",
       "      <th>0</th>\n",
       "      <td>1000025</td>\n",
       "      <td>5</td>\n",
       "      <td>1</td>\n",
       "      <td>1</td>\n",
       "      <td>1</td>\n",
       "      <td>2</td>\n",
       "      <td>1</td>\n",
       "      <td>3</td>\n",
       "      <td>1</td>\n",
       "      <td>1</td>\n",
       "      <td>2</td>\n",
       "    </tr>\n",
       "    <tr>\n",
       "      <th>1</th>\n",
       "      <td>1002945</td>\n",
       "      <td>5</td>\n",
       "      <td>4</td>\n",
       "      <td>4</td>\n",
       "      <td>5</td>\n",
       "      <td>7</td>\n",
       "      <td>10</td>\n",
       "      <td>3</td>\n",
       "      <td>2</td>\n",
       "      <td>1</td>\n",
       "      <td>2</td>\n",
       "    </tr>\n",
       "    <tr>\n",
       "      <th>2</th>\n",
       "      <td>1015425</td>\n",
       "      <td>3</td>\n",
       "      <td>1</td>\n",
       "      <td>1</td>\n",
       "      <td>1</td>\n",
       "      <td>2</td>\n",
       "      <td>2</td>\n",
       "      <td>3</td>\n",
       "      <td>1</td>\n",
       "      <td>1</td>\n",
       "      <td>2</td>\n",
       "    </tr>\n",
       "    <tr>\n",
       "      <th>3</th>\n",
       "      <td>1016277</td>\n",
       "      <td>6</td>\n",
       "      <td>8</td>\n",
       "      <td>8</td>\n",
       "      <td>1</td>\n",
       "      <td>3</td>\n",
       "      <td>4</td>\n",
       "      <td>3</td>\n",
       "      <td>7</td>\n",
       "      <td>1</td>\n",
       "      <td>2</td>\n",
       "    </tr>\n",
       "    <tr>\n",
       "      <th>4</th>\n",
       "      <td>1017023</td>\n",
       "      <td>4</td>\n",
       "      <td>1</td>\n",
       "      <td>1</td>\n",
       "      <td>3</td>\n",
       "      <td>2</td>\n",
       "      <td>1</td>\n",
       "      <td>3</td>\n",
       "      <td>1</td>\n",
       "      <td>1</td>\n",
       "      <td>2</td>\n",
       "    </tr>\n",
       "    <tr>\n",
       "      <th>5</th>\n",
       "      <td>1017122</td>\n",
       "      <td>8</td>\n",
       "      <td>10</td>\n",
       "      <td>10</td>\n",
       "      <td>8</td>\n",
       "      <td>7</td>\n",
       "      <td>10</td>\n",
       "      <td>9</td>\n",
       "      <td>7</td>\n",
       "      <td>1</td>\n",
       "      <td>4</td>\n",
       "    </tr>\n",
       "    <tr>\n",
       "      <th>6</th>\n",
       "      <td>1018099</td>\n",
       "      <td>1</td>\n",
       "      <td>1</td>\n",
       "      <td>1</td>\n",
       "      <td>1</td>\n",
       "      <td>2</td>\n",
       "      <td>10</td>\n",
       "      <td>3</td>\n",
       "      <td>1</td>\n",
       "      <td>1</td>\n",
       "      <td>2</td>\n",
       "    </tr>\n",
       "    <tr>\n",
       "      <th>7</th>\n",
       "      <td>1018561</td>\n",
       "      <td>2</td>\n",
       "      <td>1</td>\n",
       "      <td>2</td>\n",
       "      <td>1</td>\n",
       "      <td>2</td>\n",
       "      <td>1</td>\n",
       "      <td>3</td>\n",
       "      <td>1</td>\n",
       "      <td>1</td>\n",
       "      <td>2</td>\n",
       "    </tr>\n",
       "    <tr>\n",
       "      <th>8</th>\n",
       "      <td>1033078</td>\n",
       "      <td>2</td>\n",
       "      <td>1</td>\n",
       "      <td>1</td>\n",
       "      <td>1</td>\n",
       "      <td>2</td>\n",
       "      <td>1</td>\n",
       "      <td>1</td>\n",
       "      <td>1</td>\n",
       "      <td>5</td>\n",
       "      <td>2</td>\n",
       "    </tr>\n",
       "    <tr>\n",
       "      <th>9</th>\n",
       "      <td>1033078</td>\n",
       "      <td>4</td>\n",
       "      <td>2</td>\n",
       "      <td>1</td>\n",
       "      <td>1</td>\n",
       "      <td>2</td>\n",
       "      <td>1</td>\n",
       "      <td>2</td>\n",
       "      <td>1</td>\n",
       "      <td>1</td>\n",
       "      <td>2</td>\n",
       "    </tr>\n",
       "    <tr>\n",
       "      <th>10</th>\n",
       "      <td>1035283</td>\n",
       "      <td>1</td>\n",
       "      <td>1</td>\n",
       "      <td>1</td>\n",
       "      <td>1</td>\n",
       "      <td>1</td>\n",
       "      <td>1</td>\n",
       "      <td>3</td>\n",
       "      <td>1</td>\n",
       "      <td>1</td>\n",
       "      <td>2</td>\n",
       "    </tr>\n",
       "    <tr>\n",
       "      <th>11</th>\n",
       "      <td>1036172</td>\n",
       "      <td>2</td>\n",
       "      <td>1</td>\n",
       "      <td>1</td>\n",
       "      <td>1</td>\n",
       "      <td>2</td>\n",
       "      <td>1</td>\n",
       "      <td>2</td>\n",
       "      <td>1</td>\n",
       "      <td>1</td>\n",
       "      <td>2</td>\n",
       "    </tr>\n",
       "    <tr>\n",
       "      <th>12</th>\n",
       "      <td>1041801</td>\n",
       "      <td>5</td>\n",
       "      <td>3</td>\n",
       "      <td>3</td>\n",
       "      <td>3</td>\n",
       "      <td>2</td>\n",
       "      <td>3</td>\n",
       "      <td>4</td>\n",
       "      <td>4</td>\n",
       "      <td>1</td>\n",
       "      <td>4</td>\n",
       "    </tr>\n",
       "    <tr>\n",
       "      <th>13</th>\n",
       "      <td>1043999</td>\n",
       "      <td>1</td>\n",
       "      <td>1</td>\n",
       "      <td>1</td>\n",
       "      <td>1</td>\n",
       "      <td>2</td>\n",
       "      <td>3</td>\n",
       "      <td>3</td>\n",
       "      <td>1</td>\n",
       "      <td>1</td>\n",
       "      <td>2</td>\n",
       "    </tr>\n",
       "    <tr>\n",
       "      <th>14</th>\n",
       "      <td>1044572</td>\n",
       "      <td>8</td>\n",
       "      <td>7</td>\n",
       "      <td>5</td>\n",
       "      <td>10</td>\n",
       "      <td>7</td>\n",
       "      <td>9</td>\n",
       "      <td>5</td>\n",
       "      <td>5</td>\n",
       "      <td>4</td>\n",
       "      <td>4</td>\n",
       "    </tr>\n",
       "    <tr>\n",
       "      <th>15</th>\n",
       "      <td>1047630</td>\n",
       "      <td>7</td>\n",
       "      <td>4</td>\n",
       "      <td>6</td>\n",
       "      <td>4</td>\n",
       "      <td>6</td>\n",
       "      <td>1</td>\n",
       "      <td>4</td>\n",
       "      <td>3</td>\n",
       "      <td>1</td>\n",
       "      <td>4</td>\n",
       "    </tr>\n",
       "    <tr>\n",
       "      <th>16</th>\n",
       "      <td>1048672</td>\n",
       "      <td>4</td>\n",
       "      <td>1</td>\n",
       "      <td>1</td>\n",
       "      <td>1</td>\n",
       "      <td>2</td>\n",
       "      <td>1</td>\n",
       "      <td>2</td>\n",
       "      <td>1</td>\n",
       "      <td>1</td>\n",
       "      <td>2</td>\n",
       "    </tr>\n",
       "    <tr>\n",
       "      <th>17</th>\n",
       "      <td>1049815</td>\n",
       "      <td>4</td>\n",
       "      <td>1</td>\n",
       "      <td>1</td>\n",
       "      <td>1</td>\n",
       "      <td>2</td>\n",
       "      <td>1</td>\n",
       "      <td>3</td>\n",
       "      <td>1</td>\n",
       "      <td>1</td>\n",
       "      <td>2</td>\n",
       "    </tr>\n",
       "    <tr>\n",
       "      <th>18</th>\n",
       "      <td>1050670</td>\n",
       "      <td>10</td>\n",
       "      <td>7</td>\n",
       "      <td>7</td>\n",
       "      <td>6</td>\n",
       "      <td>4</td>\n",
       "      <td>10</td>\n",
       "      <td>4</td>\n",
       "      <td>1</td>\n",
       "      <td>2</td>\n",
       "      <td>4</td>\n",
       "    </tr>\n",
       "    <tr>\n",
       "      <th>19</th>\n",
       "      <td>1050718</td>\n",
       "      <td>6</td>\n",
       "      <td>1</td>\n",
       "      <td>1</td>\n",
       "      <td>1</td>\n",
       "      <td>2</td>\n",
       "      <td>1</td>\n",
       "      <td>3</td>\n",
       "      <td>1</td>\n",
       "      <td>1</td>\n",
       "      <td>2</td>\n",
       "    </tr>\n",
       "  </tbody>\n",
       "</table>\n",
       "</div>"
      ],
      "text/plain": [
       "         id  clump_thickness  size_uniformity  shape_uniformity  \\\n",
       "0   1000025                5                1                 1   \n",
       "1   1002945                5                4                 4   \n",
       "2   1015425                3                1                 1   \n",
       "3   1016277                6                8                 8   \n",
       "4   1017023                4                1                 1   \n",
       "5   1017122                8               10                10   \n",
       "6   1018099                1                1                 1   \n",
       "7   1018561                2                1                 2   \n",
       "8   1033078                2                1                 1   \n",
       "9   1033078                4                2                 1   \n",
       "10  1035283                1                1                 1   \n",
       "11  1036172                2                1                 1   \n",
       "12  1041801                5                3                 3   \n",
       "13  1043999                1                1                 1   \n",
       "14  1044572                8                7                 5   \n",
       "15  1047630                7                4                 6   \n",
       "16  1048672                4                1                 1   \n",
       "17  1049815                4                1                 1   \n",
       "18  1050670               10                7                 7   \n",
       "19  1050718                6                1                 1   \n",
       "\n",
       "    marginal_adhesion  epithelial_size bare_nucleoli  bland_chromatin  \\\n",
       "0                   1                2             1                3   \n",
       "1                   5                7            10                3   \n",
       "2                   1                2             2                3   \n",
       "3                   1                3             4                3   \n",
       "4                   3                2             1                3   \n",
       "5                   8                7            10                9   \n",
       "6                   1                2            10                3   \n",
       "7                   1                2             1                3   \n",
       "8                   1                2             1                1   \n",
       "9                   1                2             1                2   \n",
       "10                  1                1             1                3   \n",
       "11                  1                2             1                2   \n",
       "12                  3                2             3                4   \n",
       "13                  1                2             3                3   \n",
       "14                 10                7             9                5   \n",
       "15                  4                6             1                4   \n",
       "16                  1                2             1                2   \n",
       "17                  1                2             1                3   \n",
       "18                  6                4            10                4   \n",
       "19                  1                2             1                3   \n",
       "\n",
       "    normal_nucleoli  mitoses  class  \n",
       "0                 1        1      2  \n",
       "1                 2        1      2  \n",
       "2                 1        1      2  \n",
       "3                 7        1      2  \n",
       "4                 1        1      2  \n",
       "5                 7        1      4  \n",
       "6                 1        1      2  \n",
       "7                 1        1      2  \n",
       "8                 1        5      2  \n",
       "9                 1        1      2  \n",
       "10                1        1      2  \n",
       "11                1        1      2  \n",
       "12                4        1      4  \n",
       "13                1        1      2  \n",
       "14                5        4      4  \n",
       "15                3        1      4  \n",
       "16                1        1      2  \n",
       "17                1        1      2  \n",
       "18                1        2      4  \n",
       "19                1        1      2  "
      ]
     },
     "execution_count": 406,
     "metadata": {},
     "output_type": "execute_result"
    }
   ],
   "source": [
    "data.head(20)"
   ]
  },
  {
   "cell_type": "markdown",
   "id": "b645bde4",
   "metadata": {},
   "source": [
    "# Обзор данных - описание колонок и предметной области"
   ]
  },
  {
   "cell_type": "code",
   "execution_count": 407,
   "id": "aad318a0",
   "metadata": {},
   "outputs": [
    {
     "data": {
      "text/plain": [
       "Index(['id', 'clump_thickness', 'size_uniformity', 'shape_uniformity',\n",
       "       'marginal_adhesion', 'epithelial_size', 'bare_nucleoli',\n",
       "       'bland_chromatin', 'normal_nucleoli', 'mitoses', 'class'],\n",
       "      dtype='object')"
      ]
     },
     "execution_count": 407,
     "metadata": {},
     "output_type": "execute_result"
    }
   ],
   "source": [
    "data.columns"
   ]
  },
  {
   "cell_type": "markdown",
   "id": "e01ce5b9",
   "metadata": {},
   "source": [
    "Данный набор данных содержит информацию об атрибутах:"
   ]
  },
  {
   "cell_type": "markdown",
   "id": "180f471f",
   "metadata": {},
   "source": [
    "1. id\n",
    "2. Толщина скопления: 1–10\n",
    "3. Однородность размера клеток: 1–10\n",
    "4. Однородность формы клеток: 1–10\n",
    "5. Краевая адгезия: 1–10\n",
    "6. Размер отдельных эпителиальных клеток : 1 - 10\n",
    "7. Голые ядра: 1 - 10\n",
    "8. Бледный хроматин: 1 - 10\n",
    "9. Нормальные ядрышки: 1 - 10\n",
    "10. Митозы: 1 - 10\n",
    "11. Класс: (2 для доброкачественных, 4 для злокачественных)"
   ]
  },
  {
   "cell_type": "markdown",
   "id": "217223f0",
   "metadata": {},
   "source": [
    "# Оценка данных с помощью метода .info()"
   ]
  },
  {
   "cell_type": "code",
   "execution_count": 408,
   "id": "9bff719b",
   "metadata": {},
   "outputs": [
    {
     "name": "stdout",
     "output_type": "stream",
     "text": [
      "<class 'pandas.core.frame.DataFrame'>\n",
      "RangeIndex: 699 entries, 0 to 698\n",
      "Data columns (total 11 columns):\n",
      " #   Column             Non-Null Count  Dtype \n",
      "---  ------             --------------  ----- \n",
      " 0   id                 699 non-null    int64 \n",
      " 1   clump_thickness    699 non-null    int64 \n",
      " 2   size_uniformity    699 non-null    int64 \n",
      " 3   shape_uniformity   699 non-null    int64 \n",
      " 4   marginal_adhesion  699 non-null    int64 \n",
      " 5   epithelial_size    699 non-null    int64 \n",
      " 6   bare_nucleoli      699 non-null    object\n",
      " 7   bland_chromatin    699 non-null    int64 \n",
      " 8   normal_nucleoli    699 non-null    int64 \n",
      " 9   mitoses            699 non-null    int64 \n",
      " 10  class              699 non-null    int64 \n",
      "dtypes: int64(10), object(1)\n",
      "memory usage: 60.2+ KB\n"
     ]
    }
   ],
   "source": [
    "data.info()"
   ]
  },
  {
   "cell_type": "markdown",
   "id": "68c955b8",
   "metadata": {},
   "source": [
    "# Вывод на экран названия столбцов "
   ]
  },
  {
   "cell_type": "code",
   "execution_count": 409,
   "id": "c25f6e4f",
   "metadata": {},
   "outputs": [
    {
     "data": {
      "text/plain": [
       "['id',\n",
       " 'clump_thickness',\n",
       " 'size_uniformity',\n",
       " 'shape_uniformity',\n",
       " 'marginal_adhesion',\n",
       " 'epithelial_size',\n",
       " 'bare_nucleoli',\n",
       " 'bland_chromatin',\n",
       " 'normal_nucleoli',\n",
       " 'mitoses',\n",
       " 'class']"
      ]
     },
     "execution_count": 409,
     "metadata": {},
     "output_type": "execute_result"
    }
   ],
   "source": [
    "data.columns.tolist()"
   ]
  },
  {
   "cell_type": "markdown",
   "id": "3a8180d7",
   "metadata": {},
   "source": [
    "В ходе анализа названия столбцов, проблем не было обнаружено.\n",
    "Проверка была направлена на\n",
    "- Проблемы в названиях\n",
    "- Использование разных языков\n",
    "- Непонятные названия столбцов"
   ]
  },
  {
   "cell_type": "markdown",
   "id": "3b23d63a",
   "metadata": {},
   "source": [
    "# Выявление пропусков и устранение их"
   ]
  },
  {
   "cell_type": "code",
   "execution_count": 410,
   "id": "bc848a86",
   "metadata": {},
   "outputs": [
    {
     "name": "stdout",
     "output_type": "stream",
     "text": [
      "id                   0\n",
      "clump_thickness      0\n",
      "size_uniformity      0\n",
      "shape_uniformity     0\n",
      "marginal_adhesion    0\n",
      "epithelial_size      0\n",
      "bare_nucleoli        0\n",
      "bland_chromatin      0\n",
      "normal_nucleoli      0\n",
      "mitoses              0\n",
      "class                0\n",
      "dtype: int64\n"
     ]
    }
   ],
   "source": [
    "print(data.isna().sum())"
   ]
  },
  {
   "cell_type": "markdown",
   "id": "d60b0bdd",
   "metadata": {},
   "source": [
    "В ходе анализа пропуски не были обнаружены"
   ]
  },
  {
   "cell_type": "markdown",
   "id": "4e01177c",
   "metadata": {},
   "source": [
    "# Проверка данные на наличие явных и неявных дубликатов"
   ]
  },
  {
   "cell_type": "markdown",
   "id": "ed24ee92",
   "metadata": {},
   "source": [
    "Поиск и вывод количества дупликатов"
   ]
  },
  {
   "cell_type": "code",
   "execution_count": 411,
   "id": "103fce2c",
   "metadata": {},
   "outputs": [
    {
     "name": "stdout",
     "output_type": "stream",
     "text": [
      "8\n"
     ]
    }
   ],
   "source": [
    "print(data.duplicated().sum())"
   ]
  },
  {
   "cell_type": "code",
   "execution_count": 412,
   "id": "62d853de",
   "metadata": {},
   "outputs": [
    {
     "data": {
      "text/plain": [
       "0      False\n",
       "1      False\n",
       "2      False\n",
       "3      False\n",
       "4      False\n",
       "       ...  \n",
       "694    False\n",
       "695    False\n",
       "696    False\n",
       "697    False\n",
       "698    False\n",
       "Length: 699, dtype: bool"
      ]
     },
     "execution_count": 412,
     "metadata": {},
     "output_type": "execute_result"
    }
   ],
   "source": [
    "data.duplicated()"
   ]
  },
  {
   "cell_type": "markdown",
   "id": "009c95f8",
   "metadata": {},
   "source": [
    "Метод .duplicated() показывает явные дупликаты для первых и последних 5 значений. Поэтому не всегда может быть ясно есть ли дупликаты в датасете. В моем случае, дупликатов в данном списке нет."
   ]
  },
  {
   "cell_type": "markdown",
   "id": "c012f360",
   "metadata": {},
   "source": [
    "# Удаление явных дупликатов:"
   ]
  },
  {
   "cell_type": "code",
   "execution_count": 413,
   "id": "d99b2654",
   "metadata": {},
   "outputs": [],
   "source": [
    "data = data.drop_duplicates()"
   ]
  },
  {
   "cell_type": "code",
   "execution_count": 414,
   "id": "846105f1",
   "metadata": {},
   "outputs": [
    {
     "name": "stdout",
     "output_type": "stream",
     "text": [
      "0\n"
     ]
    }
   ],
   "source": [
    "print(data.duplicated().sum())"
   ]
  },
  {
   "cell_type": "markdown",
   "id": "0a097812",
   "metadata": {},
   "source": [
    "Результат удаления явных дупликатов\n"
   ]
  },
  {
   "cell_type": "markdown",
   "id": "44254510",
   "metadata": {},
   "source": [
    "# Поиск неявных дупликатов"
   ]
  },
  {
   "cell_type": "markdown",
   "id": "fc038729",
   "metadata": {},
   "source": [
    "Для поиска неявных дупликатов будем выполнять с помощью метода .unique(), который возвращает перечень уникальных значений в столбце.Следовательно, необходимо вызвать данный метод для каждого столбца датасета.\n",
    "Среди неявных значений:\n",
    "- альтернативные написания одного и того же значения,\n",
    "- ошибочные написания."
   ]
  },
  {
   "cell_type": "code",
   "execution_count": 415,
   "id": "8faee2e3",
   "metadata": {},
   "outputs": [
    {
     "data": {
      "text/plain": [
       "array([ 1000025,  1002945,  1015425,  1016277,  1017023,  1017122,\n",
       "        1018099,  1018561,  1033078,  1035283,  1036172,  1041801,\n",
       "        1043999,  1044572,  1047630,  1048672,  1049815,  1050670,\n",
       "        1050718,  1054590,  1054593,  1056784,  1057013,  1059552,\n",
       "        1065726,  1066373,  1066979,  1067444,  1070935,  1071760,\n",
       "        1072179,  1074610,  1075123,  1079304,  1080185,  1081791,\n",
       "        1084584,  1091262,  1096800,  1099510,  1100524,  1102573,\n",
       "        1103608,  1103722,  1105257,  1105524,  1106095,  1106829,\n",
       "        1108370,  1108449,  1110102,  1110503,  1110524,  1111249,\n",
       "        1112209,  1113038,  1113483,  1113906,  1115282,  1115293,\n",
       "        1116116,  1116132,  1116192,  1116998,  1117152,  1118039,\n",
       "        1120559,  1121732,  1121919,  1123061,  1124651,  1125035,\n",
       "        1126417,  1131294,  1132347,  1133041,  1133136,  1136142,\n",
       "        1137156,  1143978,  1147044,  1147699,  1147748,  1148278,\n",
       "        1148873,  1152331,  1155546,  1156272,  1156948,  1157734,\n",
       "        1158247,  1160476,  1164066,  1165297,  1165790,  1165926,\n",
       "        1166630,  1166654,  1167439,  1167471,  1168359,  1168736,\n",
       "        1169049,  1170419,  1170420,  1171710,  1171795,  1171845,\n",
       "        1172152,  1173216,  1173235,  1173347,  1173509,  1173514,\n",
       "        1173681,  1174057,  1174131,  1174428,  1175937,  1176406,\n",
       "        1176881,  1177027,  1177399,  1177512,  1178580,  1179818,\n",
       "        1180194,  1180523,  1180831,  1181356,  1182404,  1182410,\n",
       "        1183240,  1183246,  1183516,  1183911,  1183983,  1184184,\n",
       "        1184241,  1184840,  1185609,  1185610,  1187457,  1187805,\n",
       "        1188472,  1189266,  1189286,  1190394,  1190485,  1192325,\n",
       "        1193091,  1193210,  1193683,  1196295,  1196915,  1197080,\n",
       "        1197270,  1197440,  1197510,  1197979,  1197993,  1198128,\n",
       "        1198641,  1199219,  1199731,  1199983,  1200772,  1200847,\n",
       "        1200892,  1200952,  1201834,  1201936,  1202125,  1202812,\n",
       "        1203096,  1204242,  1204898,  1205138,  1205579,  1206089,\n",
       "        1206695,  1206841,  1207986,  1208301,  1210963,  1211202,\n",
       "        1212232,  1212251,  1212422,  1213375,  1213383,  1214092,\n",
       "        1214556,  1214966,  1216694,  1216947,  1217051,  1217264,\n",
       "        1218105,  1218741,  1218860,  1219406,  1219525,  1219859,\n",
       "        1220330,  1221863,  1222047,  1222936,  1223282,  1223426,\n",
       "        1223793,  1223967,  1224329,  1225799,  1226012,  1226612,\n",
       "        1227210,  1227244,  1227481,  1228152,  1228311,  1230175,\n",
       "        1230688,  1231387,  1231706,  1232225,  1236043,  1241232,\n",
       "        1241559,  1241679,  1242364,  1243256,  1270479,  1276091,\n",
       "        1277018,   128059,  1285531,  1287775,   144888,   145447,\n",
       "         167528,   169356,   183913,   191250,   242970,   255644,\n",
       "         263538,   274137,   303213,   314428,   320675,   324427,\n",
       "         385103,   390840,   411453,   428903,   431495,   432809,\n",
       "         434518,   452264,   456282,   476903,   486283,   486662,\n",
       "         488173,   492268,   508234,   527363,   529329,   535331,\n",
       "         543558,   555977,   560680,   561477,   563649,   601265,\n",
       "         606140,   606722,   616240,    61634,   625201,    63375,\n",
       "         635844,   636130,   640744,   646904,   653777,   659642,\n",
       "         666090,   666942,   667204,   673637,   684955,   688033,\n",
       "         691628,   693702,   704097,   704168,   706426,   709287,\n",
       "         718641,   721482,   730881,   733639,   733823,   740492,\n",
       "         743348,   752904,   756136,   760001,   760239,    76389,\n",
       "         764974,   770066,   785208,   785615,   792744,   797327,\n",
       "         798429,   806423,   809912,   810104,   814265,   814911,\n",
       "         822829,   826923,   830690,   831268,   832226,   832567,\n",
       "         836433,   837082,   846832,   850831,   855524,   857774,\n",
       "         859164,   859350,   866325,   873549,   877291,   877943,\n",
       "         888169,   888523,   896404,   897172,    95719,   160296,\n",
       "         342245,   428598,   492561,   493452,   521441,   636437,\n",
       "         640712,   654244,   657753,   685977,   805448,   846423,\n",
       "        1002504,  1022257,  1026122,  1071084,  1080233,  1114570,\n",
       "        1116715,  1131411,  1151734,  1156017,  1158405,  1168278,\n",
       "        1176187,  1196263,  1196475,  1206314,  1211265,  1213784,\n",
       "        1223003,  1223306,  1223543,  1229929,  1231853,  1234554,\n",
       "        1236837,  1237674,  1238021,  1238464,  1238633,  1238915,\n",
       "        1238948,  1239232,  1239347,  1239967,  1240337,  1253505,\n",
       "        1255384,  1257200,  1257648,  1257815,  1257938,  1258549,\n",
       "        1258556,  1266154,  1272039,  1277629,  1293439,  1294562,\n",
       "        1295186,   527337,   558538,   566509,   608157,   677910,\n",
       "         734111,   780555,   827627,  1049837,  1058849,  1193544,\n",
       "        1201870,  1202253,  1227081,  1230994,  1238410,  1246562,\n",
       "        1257470,  1259008,  1266124,  1267898,  1268313,  1268804,\n",
       "        1280258,  1293966,  1296572,  1298416,  1299596,  1181685,\n",
       "        1211594,  1238777,  1257608,  1269574,  1277145,  1287282,\n",
       "        1296025,  1296263,  1296593,  1299161,  1301945,  1302428,\n",
       "        1318169,   474162,   787451,  1002025,  1070522,  1073960,\n",
       "        1076352,  1084139,  1119189,  1133991,  1142706,  1155967,\n",
       "        1170945,  1181567,  1204558,  1217952,  1224565,  1238186,\n",
       "        1253917,  1265899,  1268766,  1277268,  1286943,  1295508,\n",
       "        1297327,  1297522,  1298360,  1299924,  1299994,  1304595,\n",
       "        1306282,  1313325,  1320077,  1320304,  1330439,   333093,\n",
       "         369565,   412300,   672113,   749653,   769612,   807657,\n",
       "        8233704,   837480,   867392,   869828,  1043068,  1056171,\n",
       "        1061990,  1113061,  1135090,  1145420,  1158157,  1171578,\n",
       "        1174841,  1184586,  1186936,  1197527,  1222464,  1240603,\n",
       "        1241035,  1287971,  1289391,  1306339,  1313658,  1313982,\n",
       "        1321264,  1321321,  1321348,  1321931,  1321942,  1328331,\n",
       "        1328755,  1331405,  1331412,  1333104,  1334071,  1343068,\n",
       "        1343374,  1344121,   142932,   183936,   324382,   378275,\n",
       "         690557,   695091,   695219,   824249,   871549,   878358,\n",
       "        1107684,  1115762,  1217717,  1239420,  1254538,  1261751,\n",
       "        1268275,  1272166,  1294261,  1295529,  1298484,  1311875,\n",
       "        1315506,  1320141,  1325309,  1333063,  1333495,  1334659,\n",
       "        1336798,  1344449,  1350568,  1352663,   188336,   352431,\n",
       "         353098,   557583,   636375,   736150,   803531,  1016634,\n",
       "        1031608,  1041043,  1042252,  1057067,  1073836,  1083817,\n",
       "        1096352,  1140597,  1149548,  1174009,  1183596,  1190386,\n",
       "        1190546,  1213273,  1218982,  1225382,  1235807,  1253955,\n",
       "        1257366,  1260659,  1268952,  1275807,  1277792,  1285722,\n",
       "        1288608,  1290203,  1294413,  1303489,  1311033,  1311108,\n",
       "        1315807,  1318671,  1319609,  1323477,  1324572,  1324681,\n",
       "        1325159,  1326892,  1330361,  1333877,  1334015,  1334667,\n",
       "        1339781, 13454352,  1345452,  1345593,  1347749,  1347943,\n",
       "        1348851,  1350319,  1350423,  1352848,  1353092,  1354840,\n",
       "        1355260,  1365075,  1365328,  1368267,  1368273,  1368882,\n",
       "        1369821,  1371026,  1371920,   466906,   534555,   536708,\n",
       "         566346,   603148,   654546,   714039,   763235,   776715,\n",
       "         841769,   888820,   897471], dtype=int64)"
      ]
     },
     "execution_count": 415,
     "metadata": {},
     "output_type": "execute_result"
    }
   ],
   "source": [
    "data['id'].unique()"
   ]
  },
  {
   "cell_type": "code",
   "execution_count": 416,
   "id": "43e6dc36",
   "metadata": {},
   "outputs": [
    {
     "data": {
      "text/plain": [
       "array([ 5,  3,  6,  4,  8,  1,  2,  7, 10,  9], dtype=int64)"
      ]
     },
     "execution_count": 416,
     "metadata": {},
     "output_type": "execute_result"
    }
   ],
   "source": [
    "data['clump_thickness'].unique()"
   ]
  },
  {
   "cell_type": "code",
   "execution_count": 417,
   "id": "0a4f8516",
   "metadata": {},
   "outputs": [
    {
     "data": {
      "text/plain": [
       "array([ 1,  4,  8, 10,  2,  3,  7,  5,  6,  9], dtype=int64)"
      ]
     },
     "execution_count": 417,
     "metadata": {},
     "output_type": "execute_result"
    }
   ],
   "source": [
    "data['size_uniformity'].unique()"
   ]
  },
  {
   "cell_type": "code",
   "execution_count": 418,
   "id": "938ab05b",
   "metadata": {},
   "outputs": [
    {
     "data": {
      "text/plain": [
       "array([ 1,  4,  8, 10,  2,  3,  5,  6,  7,  9], dtype=int64)"
      ]
     },
     "execution_count": 418,
     "metadata": {},
     "output_type": "execute_result"
    }
   ],
   "source": [
    "data['shape_uniformity'].unique()"
   ]
  },
  {
   "cell_type": "code",
   "execution_count": 419,
   "id": "01600cb8",
   "metadata": {},
   "outputs": [
    {
     "data": {
      "text/plain": [
       "array([ 1,  5,  3,  8, 10,  4,  6,  2,  9,  7], dtype=int64)"
      ]
     },
     "execution_count": 419,
     "metadata": {},
     "output_type": "execute_result"
    }
   ],
   "source": [
    "data['marginal_adhesion'].unique()"
   ]
  },
  {
   "cell_type": "code",
   "execution_count": 420,
   "id": "2216176d",
   "metadata": {},
   "outputs": [
    {
     "data": {
      "text/plain": [
       "array([ 2,  7,  3,  1,  6,  4,  5,  8, 10,  9], dtype=int64)"
      ]
     },
     "execution_count": 420,
     "metadata": {},
     "output_type": "execute_result"
    }
   ],
   "source": [
    "data['epithelial_size'].unique()"
   ]
  },
  {
   "cell_type": "code",
   "execution_count": 421,
   "id": "719622ae",
   "metadata": {},
   "outputs": [
    {
     "data": {
      "text/plain": [
       "array(['1', '10', '2', '4', '3', '9', '7', '?', '5', '8', '6'],\n",
       "      dtype=object)"
      ]
     },
     "execution_count": 421,
     "metadata": {},
     "output_type": "execute_result"
    }
   ],
   "source": [
    "data['bare_nucleoli'].unique()"
   ]
  },
  {
   "cell_type": "markdown",
   "id": "ebdf3da0",
   "metadata": {},
   "source": [
    "Видим, что присутствует необычное значение '?'."
   ]
  },
  {
   "cell_type": "markdown",
   "id": "846a6dcd",
   "metadata": {},
   "source": [
    "Посмотрим долю значений где bare_nucleoli равен '?':"
   ]
  },
  {
   "cell_type": "code",
   "execution_count": 422,
   "id": "c20a7223",
   "metadata": {},
   "outputs": [
    {
     "data": {
      "text/html": [
       "<div>\n",
       "<style scoped>\n",
       "    .dataframe tbody tr th:only-of-type {\n",
       "        vertical-align: middle;\n",
       "    }\n",
       "\n",
       "    .dataframe tbody tr th {\n",
       "        vertical-align: top;\n",
       "    }\n",
       "\n",
       "    .dataframe thead th {\n",
       "        text-align: right;\n",
       "    }\n",
       "</style>\n",
       "<table border=\"1\" class=\"dataframe\">\n",
       "  <thead>\n",
       "    <tr style=\"text-align: right;\">\n",
       "      <th></th>\n",
       "      <th>id</th>\n",
       "      <th>clump_thickness</th>\n",
       "      <th>size_uniformity</th>\n",
       "      <th>shape_uniformity</th>\n",
       "      <th>marginal_adhesion</th>\n",
       "      <th>epithelial_size</th>\n",
       "      <th>bare_nucleoli</th>\n",
       "      <th>bland_chromatin</th>\n",
       "      <th>normal_nucleoli</th>\n",
       "      <th>mitoses</th>\n",
       "      <th>class</th>\n",
       "    </tr>\n",
       "  </thead>\n",
       "  <tbody>\n",
       "    <tr>\n",
       "      <th>23</th>\n",
       "      <td>1057013</td>\n",
       "      <td>8</td>\n",
       "      <td>4</td>\n",
       "      <td>5</td>\n",
       "      <td>1</td>\n",
       "      <td>2</td>\n",
       "      <td>?</td>\n",
       "      <td>7</td>\n",
       "      <td>3</td>\n",
       "      <td>1</td>\n",
       "      <td>4</td>\n",
       "    </tr>\n",
       "    <tr>\n",
       "      <th>40</th>\n",
       "      <td>1096800</td>\n",
       "      <td>6</td>\n",
       "      <td>6</td>\n",
       "      <td>6</td>\n",
       "      <td>9</td>\n",
       "      <td>6</td>\n",
       "      <td>?</td>\n",
       "      <td>7</td>\n",
       "      <td>8</td>\n",
       "      <td>1</td>\n",
       "      <td>2</td>\n",
       "    </tr>\n",
       "    <tr>\n",
       "      <th>139</th>\n",
       "      <td>1183246</td>\n",
       "      <td>1</td>\n",
       "      <td>1</td>\n",
       "      <td>1</td>\n",
       "      <td>1</td>\n",
       "      <td>1</td>\n",
       "      <td>?</td>\n",
       "      <td>2</td>\n",
       "      <td>1</td>\n",
       "      <td>1</td>\n",
       "      <td>2</td>\n",
       "    </tr>\n",
       "    <tr>\n",
       "      <th>145</th>\n",
       "      <td>1184840</td>\n",
       "      <td>1</td>\n",
       "      <td>1</td>\n",
       "      <td>3</td>\n",
       "      <td>1</td>\n",
       "      <td>2</td>\n",
       "      <td>?</td>\n",
       "      <td>2</td>\n",
       "      <td>1</td>\n",
       "      <td>1</td>\n",
       "      <td>2</td>\n",
       "    </tr>\n",
       "    <tr>\n",
       "      <th>158</th>\n",
       "      <td>1193683</td>\n",
       "      <td>1</td>\n",
       "      <td>1</td>\n",
       "      <td>2</td>\n",
       "      <td>1</td>\n",
       "      <td>3</td>\n",
       "      <td>?</td>\n",
       "      <td>1</td>\n",
       "      <td>1</td>\n",
       "      <td>1</td>\n",
       "      <td>2</td>\n",
       "    </tr>\n",
       "    <tr>\n",
       "      <th>164</th>\n",
       "      <td>1197510</td>\n",
       "      <td>5</td>\n",
       "      <td>1</td>\n",
       "      <td>1</td>\n",
       "      <td>1</td>\n",
       "      <td>2</td>\n",
       "      <td>?</td>\n",
       "      <td>3</td>\n",
       "      <td>1</td>\n",
       "      <td>1</td>\n",
       "      <td>2</td>\n",
       "    </tr>\n",
       "    <tr>\n",
       "      <th>235</th>\n",
       "      <td>1241232</td>\n",
       "      <td>3</td>\n",
       "      <td>1</td>\n",
       "      <td>4</td>\n",
       "      <td>1</td>\n",
       "      <td>2</td>\n",
       "      <td>?</td>\n",
       "      <td>3</td>\n",
       "      <td>1</td>\n",
       "      <td>1</td>\n",
       "      <td>2</td>\n",
       "    </tr>\n",
       "    <tr>\n",
       "      <th>249</th>\n",
       "      <td>169356</td>\n",
       "      <td>3</td>\n",
       "      <td>1</td>\n",
       "      <td>1</td>\n",
       "      <td>1</td>\n",
       "      <td>2</td>\n",
       "      <td>?</td>\n",
       "      <td>3</td>\n",
       "      <td>1</td>\n",
       "      <td>1</td>\n",
       "      <td>2</td>\n",
       "    </tr>\n",
       "    <tr>\n",
       "      <th>275</th>\n",
       "      <td>432809</td>\n",
       "      <td>3</td>\n",
       "      <td>1</td>\n",
       "      <td>3</td>\n",
       "      <td>1</td>\n",
       "      <td>2</td>\n",
       "      <td>?</td>\n",
       "      <td>2</td>\n",
       "      <td>1</td>\n",
       "      <td>1</td>\n",
       "      <td>2</td>\n",
       "    </tr>\n",
       "    <tr>\n",
       "      <th>292</th>\n",
       "      <td>563649</td>\n",
       "      <td>8</td>\n",
       "      <td>8</td>\n",
       "      <td>8</td>\n",
       "      <td>1</td>\n",
       "      <td>2</td>\n",
       "      <td>?</td>\n",
       "      <td>6</td>\n",
       "      <td>10</td>\n",
       "      <td>1</td>\n",
       "      <td>4</td>\n",
       "    </tr>\n",
       "    <tr>\n",
       "      <th>294</th>\n",
       "      <td>606140</td>\n",
       "      <td>1</td>\n",
       "      <td>1</td>\n",
       "      <td>1</td>\n",
       "      <td>1</td>\n",
       "      <td>2</td>\n",
       "      <td>?</td>\n",
       "      <td>2</td>\n",
       "      <td>1</td>\n",
       "      <td>1</td>\n",
       "      <td>2</td>\n",
       "    </tr>\n",
       "    <tr>\n",
       "      <th>297</th>\n",
       "      <td>61634</td>\n",
       "      <td>5</td>\n",
       "      <td>4</td>\n",
       "      <td>3</td>\n",
       "      <td>1</td>\n",
       "      <td>2</td>\n",
       "      <td>?</td>\n",
       "      <td>2</td>\n",
       "      <td>3</td>\n",
       "      <td>1</td>\n",
       "      <td>2</td>\n",
       "    </tr>\n",
       "    <tr>\n",
       "      <th>315</th>\n",
       "      <td>704168</td>\n",
       "      <td>4</td>\n",
       "      <td>6</td>\n",
       "      <td>5</td>\n",
       "      <td>6</td>\n",
       "      <td>7</td>\n",
       "      <td>?</td>\n",
       "      <td>4</td>\n",
       "      <td>9</td>\n",
       "      <td>1</td>\n",
       "      <td>2</td>\n",
       "    </tr>\n",
       "    <tr>\n",
       "      <th>321</th>\n",
       "      <td>733639</td>\n",
       "      <td>3</td>\n",
       "      <td>1</td>\n",
       "      <td>1</td>\n",
       "      <td>1</td>\n",
       "      <td>2</td>\n",
       "      <td>?</td>\n",
       "      <td>3</td>\n",
       "      <td>1</td>\n",
       "      <td>1</td>\n",
       "      <td>2</td>\n",
       "    </tr>\n",
       "    <tr>\n",
       "      <th>411</th>\n",
       "      <td>1238464</td>\n",
       "      <td>1</td>\n",
       "      <td>1</td>\n",
       "      <td>1</td>\n",
       "      <td>1</td>\n",
       "      <td>1</td>\n",
       "      <td>?</td>\n",
       "      <td>2</td>\n",
       "      <td>1</td>\n",
       "      <td>1</td>\n",
       "      <td>2</td>\n",
       "    </tr>\n",
       "    <tr>\n",
       "      <th>617</th>\n",
       "      <td>1057067</td>\n",
       "      <td>1</td>\n",
       "      <td>1</td>\n",
       "      <td>1</td>\n",
       "      <td>1</td>\n",
       "      <td>1</td>\n",
       "      <td>?</td>\n",
       "      <td>1</td>\n",
       "      <td>1</td>\n",
       "      <td>1</td>\n",
       "      <td>2</td>\n",
       "    </tr>\n",
       "  </tbody>\n",
       "</table>\n",
       "</div>"
      ],
      "text/plain": [
       "          id  clump_thickness  size_uniformity  shape_uniformity  \\\n",
       "23   1057013                8                4                 5   \n",
       "40   1096800                6                6                 6   \n",
       "139  1183246                1                1                 1   \n",
       "145  1184840                1                1                 3   \n",
       "158  1193683                1                1                 2   \n",
       "164  1197510                5                1                 1   \n",
       "235  1241232                3                1                 4   \n",
       "249   169356                3                1                 1   \n",
       "275   432809                3                1                 3   \n",
       "292   563649                8                8                 8   \n",
       "294   606140                1                1                 1   \n",
       "297    61634                5                4                 3   \n",
       "315   704168                4                6                 5   \n",
       "321   733639                3                1                 1   \n",
       "411  1238464                1                1                 1   \n",
       "617  1057067                1                1                 1   \n",
       "\n",
       "     marginal_adhesion  epithelial_size bare_nucleoli  bland_chromatin  \\\n",
       "23                   1                2             ?                7   \n",
       "40                   9                6             ?                7   \n",
       "139                  1                1             ?                2   \n",
       "145                  1                2             ?                2   \n",
       "158                  1                3             ?                1   \n",
       "164                  1                2             ?                3   \n",
       "235                  1                2             ?                3   \n",
       "249                  1                2             ?                3   \n",
       "275                  1                2             ?                2   \n",
       "292                  1                2             ?                6   \n",
       "294                  1                2             ?                2   \n",
       "297                  1                2             ?                2   \n",
       "315                  6                7             ?                4   \n",
       "321                  1                2             ?                3   \n",
       "411                  1                1             ?                2   \n",
       "617                  1                1             ?                1   \n",
       "\n",
       "     normal_nucleoli  mitoses  class  \n",
       "23                 3        1      4  \n",
       "40                 8        1      2  \n",
       "139                1        1      2  \n",
       "145                1        1      2  \n",
       "158                1        1      2  \n",
       "164                1        1      2  \n",
       "235                1        1      2  \n",
       "249                1        1      2  \n",
       "275                1        1      2  \n",
       "292               10        1      4  \n",
       "294                1        1      2  \n",
       "297                3        1      2  \n",
       "315                9        1      2  \n",
       "321                1        1      2  \n",
       "411                1        1      2  \n",
       "617                1        1      2  "
      ]
     },
     "execution_count": 422,
     "metadata": {},
     "output_type": "execute_result"
    }
   ],
   "source": [
    "data.loc[data['bare_nucleoli'] == '?']"
   ]
  },
  {
   "cell_type": "markdown",
   "id": "34be27b7",
   "metadata": {},
   "source": [
    "Видим, что значение '?' для столбца bare_nucleoli является некорректным, т.к. количество строк с таким значением в данном столбце всего 16, что составляет маленькую долю от 700 и изначально было указано, что значения для данного столбца могут быть от 1 до 10."
   ]
  },
  {
   "cell_type": "code",
   "execution_count": 423,
   "id": "45b93e0a",
   "metadata": {},
   "outputs": [
    {
     "data": {
      "text/plain": [
       "array([ 3,  9,  1,  2,  4,  5,  7,  8,  6, 10], dtype=int64)"
      ]
     },
     "execution_count": 423,
     "metadata": {},
     "output_type": "execute_result"
    }
   ],
   "source": [
    "data['bland_chromatin'].unique()"
   ]
  },
  {
   "cell_type": "code",
   "execution_count": 424,
   "id": "10c385c6",
   "metadata": {},
   "outputs": [
    {
     "data": {
      "text/plain": [
       "array([ 1,  2,  7,  4,  5,  3, 10,  6,  9,  8], dtype=int64)"
      ]
     },
     "execution_count": 424,
     "metadata": {},
     "output_type": "execute_result"
    }
   ],
   "source": [
    "data['normal_nucleoli'].unique()"
   ]
  },
  {
   "cell_type": "code",
   "execution_count": 425,
   "id": "ed20624b",
   "metadata": {},
   "outputs": [
    {
     "data": {
      "text/plain": [
       "array([ 1,  5,  4,  2,  3,  7, 10,  8,  6], dtype=int64)"
      ]
     },
     "execution_count": 425,
     "metadata": {},
     "output_type": "execute_result"
    }
   ],
   "source": [
    "data['mitoses'].unique()"
   ]
  },
  {
   "cell_type": "code",
   "execution_count": 426,
   "id": "a5130630",
   "metadata": {},
   "outputs": [
    {
     "data": {
      "text/plain": [
       "array([2, 4], dtype=int64)"
      ]
     },
     "execution_count": 426,
     "metadata": {},
     "output_type": "execute_result"
    }
   ],
   "source": [
    "data['class'].unique()"
   ]
  },
  {
   "cell_type": "markdown",
   "id": "ff21dc56",
   "metadata": {},
   "source": [
    "# Удаление неявных дубликатов"
   ]
  },
  {
   "cell_type": "markdown",
   "id": "b66825de",
   "metadata": {},
   "source": [
    "Извлечем все значения равные '?' для 'bare_nucleoli':"
   ]
  },
  {
   "cell_type": "code",
   "execution_count": 427,
   "id": "a2cd5c5b",
   "metadata": {},
   "outputs": [],
   "source": [
    "data = data.loc[data['bare_nucleoli'] != '?']"
   ]
  },
  {
   "cell_type": "code",
   "execution_count": 428,
   "id": "a3f4b164",
   "metadata": {},
   "outputs": [
    {
     "data": {
      "text/plain": [
       "array(['1', '10', '2', '4', '3', '9', '7', '5', '8', '6'], dtype=object)"
      ]
     },
     "execution_count": 428,
     "metadata": {},
     "output_type": "execute_result"
    }
   ],
   "source": [
    "data['bare_nucleoli'].unique()"
   ]
  },
  {
   "cell_type": "markdown",
   "id": "90773446",
   "metadata": {},
   "source": [
    "Результат извлечения всех значений равных '?' для 'bare_nucleoli'"
   ]
  },
  {
   "cell_type": "markdown",
   "id": "91aeb6db",
   "metadata": {},
   "source": [
    "# Оценка типа данных и исправление"
   ]
  },
  {
   "cell_type": "markdown",
   "id": "ba7bcc9c",
   "metadata": {},
   "source": [
    "Оценку будем производить с помощью метода .info()"
   ]
  },
  {
   "cell_type": "code",
   "execution_count": 429,
   "id": "6554be0c",
   "metadata": {},
   "outputs": [
    {
     "name": "stdout",
     "output_type": "stream",
     "text": [
      "<class 'pandas.core.frame.DataFrame'>\n",
      "Int64Index: 675 entries, 0 to 698\n",
      "Data columns (total 11 columns):\n",
      " #   Column             Non-Null Count  Dtype \n",
      "---  ------             --------------  ----- \n",
      " 0   id                 675 non-null    int64 \n",
      " 1   clump_thickness    675 non-null    int64 \n",
      " 2   size_uniformity    675 non-null    int64 \n",
      " 3   shape_uniformity   675 non-null    int64 \n",
      " 4   marginal_adhesion  675 non-null    int64 \n",
      " 5   epithelial_size    675 non-null    int64 \n",
      " 6   bare_nucleoli      675 non-null    object\n",
      " 7   bland_chromatin    675 non-null    int64 \n",
      " 8   normal_nucleoli    675 non-null    int64 \n",
      " 9   mitoses            675 non-null    int64 \n",
      " 10  class              675 non-null    int64 \n",
      "dtypes: int64(10), object(1)\n",
      "memory usage: 63.3+ KB\n"
     ]
    }
   ],
   "source": [
    "data.info()"
   ]
  },
  {
   "cell_type": "markdown",
   "id": "4ed01cca",
   "metadata": {},
   "source": [
    "В ходе анализа видно, что нужно исправить 'bare_nucleoli' из object в int64, т.к. данный столбец содержит целые числа"
   ]
  },
  {
   "cell_type": "markdown",
   "id": "2bf3faf8",
   "metadata": {},
   "source": [
    "# Исправление типа данных у 'bare_nucleoli' на 'int64' с помощью метода .astype()"
   ]
  },
  {
   "cell_type": "code",
   "execution_count": 430,
   "id": "29ffde1d",
   "metadata": {},
   "outputs": [],
   "source": [
    "data['bare_nucleoli'] = data['bare_nucleoli'].astype('int64')"
   ]
  },
  {
   "cell_type": "code",
   "execution_count": 431,
   "id": "d38baf2d",
   "metadata": {},
   "outputs": [
    {
     "name": "stdout",
     "output_type": "stream",
     "text": [
      "<class 'pandas.core.frame.DataFrame'>\n",
      "Int64Index: 675 entries, 0 to 698\n",
      "Data columns (total 11 columns):\n",
      " #   Column             Non-Null Count  Dtype\n",
      "---  ------             --------------  -----\n",
      " 0   id                 675 non-null    int64\n",
      " 1   clump_thickness    675 non-null    int64\n",
      " 2   size_uniformity    675 non-null    int64\n",
      " 3   shape_uniformity   675 non-null    int64\n",
      " 4   marginal_adhesion  675 non-null    int64\n",
      " 5   epithelial_size    675 non-null    int64\n",
      " 6   bare_nucleoli      675 non-null    int64\n",
      " 7   bland_chromatin    675 non-null    int64\n",
      " 8   normal_nucleoli    675 non-null    int64\n",
      " 9   mitoses            675 non-null    int64\n",
      " 10  class              675 non-null    int64\n",
      "dtypes: int64(11)\n",
      "memory usage: 63.3 KB\n"
     ]
    }
   ],
   "source": [
    "data.info()"
   ]
  },
  {
   "cell_type": "markdown",
   "id": "29f7cae6",
   "metadata": {},
   "source": [
    " Результат исправления типа данных у 'bare_nucleoli'"
   ]
  },
  {
   "cell_type": "markdown",
   "id": "b1ca2e2e",
   "metadata": {},
   "source": [
    "# Нормализация данных"
   ]
  },
  {
   "cell_type": "code",
   "execution_count": 432,
   "id": "cfbc8ab0",
   "metadata": {},
   "outputs": [],
   "source": [
    "data['class'] = data['class'].replace(2, 0)\n",
    "data['class'] = data['class'].replace(4, 1)"
   ]
  },
  {
   "cell_type": "markdown",
   "id": "94be5942",
   "metadata": {},
   "source": [
    "# 3. Выявление целевого признака"
   ]
  },
  {
   "cell_type": "code",
   "execution_count": 434,
   "id": "4f9489d7",
   "metadata": {
    "scrolled": false
   },
   "outputs": [
    {
     "data": {
      "text/html": [
       "<div>\n",
       "<style scoped>\n",
       "    .dataframe tbody tr th:only-of-type {\n",
       "        vertical-align: middle;\n",
       "    }\n",
       "\n",
       "    .dataframe tbody tr th {\n",
       "        vertical-align: top;\n",
       "    }\n",
       "\n",
       "    .dataframe thead th {\n",
       "        text-align: right;\n",
       "    }\n",
       "</style>\n",
       "<table border=\"1\" class=\"dataframe\">\n",
       "  <thead>\n",
       "    <tr style=\"text-align: right;\">\n",
       "      <th></th>\n",
       "      <th>id</th>\n",
       "      <th>clump_thickness</th>\n",
       "      <th>size_uniformity</th>\n",
       "      <th>shape_uniformity</th>\n",
       "      <th>marginal_adhesion</th>\n",
       "      <th>epithelial_size</th>\n",
       "      <th>bare_nucleoli</th>\n",
       "      <th>bland_chromatin</th>\n",
       "      <th>normal_nucleoli</th>\n",
       "      <th>mitoses</th>\n",
       "      <th>class</th>\n",
       "    </tr>\n",
       "  </thead>\n",
       "  <tbody>\n",
       "    <tr>\n",
       "      <th>0</th>\n",
       "      <td>1000025</td>\n",
       "      <td>5</td>\n",
       "      <td>1</td>\n",
       "      <td>1</td>\n",
       "      <td>1</td>\n",
       "      <td>2</td>\n",
       "      <td>1</td>\n",
       "      <td>3</td>\n",
       "      <td>1</td>\n",
       "      <td>1</td>\n",
       "      <td>0</td>\n",
       "    </tr>\n",
       "    <tr>\n",
       "      <th>1</th>\n",
       "      <td>1002945</td>\n",
       "      <td>5</td>\n",
       "      <td>4</td>\n",
       "      <td>4</td>\n",
       "      <td>5</td>\n",
       "      <td>7</td>\n",
       "      <td>10</td>\n",
       "      <td>3</td>\n",
       "      <td>2</td>\n",
       "      <td>1</td>\n",
       "      <td>0</td>\n",
       "    </tr>\n",
       "    <tr>\n",
       "      <th>2</th>\n",
       "      <td>1015425</td>\n",
       "      <td>3</td>\n",
       "      <td>1</td>\n",
       "      <td>1</td>\n",
       "      <td>1</td>\n",
       "      <td>2</td>\n",
       "      <td>2</td>\n",
       "      <td>3</td>\n",
       "      <td>1</td>\n",
       "      <td>1</td>\n",
       "      <td>0</td>\n",
       "    </tr>\n",
       "    <tr>\n",
       "      <th>3</th>\n",
       "      <td>1016277</td>\n",
       "      <td>6</td>\n",
       "      <td>8</td>\n",
       "      <td>8</td>\n",
       "      <td>1</td>\n",
       "      <td>3</td>\n",
       "      <td>4</td>\n",
       "      <td>3</td>\n",
       "      <td>7</td>\n",
       "      <td>1</td>\n",
       "      <td>0</td>\n",
       "    </tr>\n",
       "    <tr>\n",
       "      <th>4</th>\n",
       "      <td>1017023</td>\n",
       "      <td>4</td>\n",
       "      <td>1</td>\n",
       "      <td>1</td>\n",
       "      <td>3</td>\n",
       "      <td>2</td>\n",
       "      <td>1</td>\n",
       "      <td>3</td>\n",
       "      <td>1</td>\n",
       "      <td>1</td>\n",
       "      <td>0</td>\n",
       "    </tr>\n",
       "  </tbody>\n",
       "</table>\n",
       "</div>"
      ],
      "text/plain": [
       "        id  clump_thickness  size_uniformity  shape_uniformity  \\\n",
       "0  1000025                5                1                 1   \n",
       "1  1002945                5                4                 4   \n",
       "2  1015425                3                1                 1   \n",
       "3  1016277                6                8                 8   \n",
       "4  1017023                4                1                 1   \n",
       "\n",
       "   marginal_adhesion  epithelial_size  bare_nucleoli  bland_chromatin  \\\n",
       "0                  1                2              1                3   \n",
       "1                  5                7             10                3   \n",
       "2                  1                2              2                3   \n",
       "3                  1                3              4                3   \n",
       "4                  3                2              1                3   \n",
       "\n",
       "   normal_nucleoli  mitoses  class  \n",
       "0                1        1      0  \n",
       "1                2        1      0  \n",
       "2                1        1      0  \n",
       "3                7        1      0  \n",
       "4                1        1      0  "
      ]
     },
     "execution_count": 434,
     "metadata": {},
     "output_type": "execute_result"
    }
   ],
   "source": [
    "data.head()"
   ]
  },
  {
   "cell_type": "markdown",
   "id": "674d1794",
   "metadata": {},
   "source": [
    "Целевым признаком данного датасета является столбец \"class\" - тип опухоли(доброкачественная/злокачественная). Его результат зависит значений других столбцов."
   ]
  },
  {
   "cell_type": "markdown",
   "id": "2bdf9e51",
   "metadata": {},
   "source": [
    "Отделим целевой признак от основной выборки для проведения обучения данных:"
   ]
  },
  {
   "cell_type": "code",
   "execution_count": 436,
   "id": "b14433f5",
   "metadata": {},
   "outputs": [],
   "source": [
    "X = data.drop(['class'], axis=1)\n"
   ]
  },
  {
   "cell_type": "code",
   "execution_count": 437,
   "id": "562a2cd4",
   "metadata": {},
   "outputs": [],
   "source": [
    "y = data['class']"
   ]
  },
  {
   "cell_type": "markdown",
   "id": "7d05a7a3",
   "metadata": {},
   "source": [
    "Разобьем набор данных на тренировочный и тестовый датасеты:"
   ]
  },
  {
   "cell_type": "code",
   "execution_count": 438,
   "id": "8f6554c9",
   "metadata": {},
   "outputs": [],
   "source": [
    "from sklearn.model_selection import train_test_split\n",
    "X_train, X_test, y_train, y_test = train_test_split(X, y, train_size=0.625, random_state=42)"
   ]
  },
  {
   "cell_type": "markdown",
   "id": "137fe48e",
   "metadata": {},
   "source": [
    "## Метод k-ближайших соседей."
   ]
  },
  {
   "cell_type": "markdown",
   "id": "e458d710",
   "metadata": {},
   "source": [
    "Метод заключается в отнесении объекта к какому-то классу на основании расстояния от него до центров кластеров, определённых моделью в процессе обучения."
   ]
  },
  {
   "cell_type": "markdown",
   "id": "3f0ee010",
   "metadata": {},
   "source": [
    "Классифицируем данные методом KNeighborsClassifier, где n_neighbors - количество кластеров."
   ]
  },
  {
   "cell_type": "code",
   "execution_count": 439,
   "id": "6b6998bd",
   "metadata": {},
   "outputs": [],
   "source": [
    "from sklearn.neighbors import KNeighborsClassifier"
   ]
  },
  {
   "cell_type": "code",
   "execution_count": 440,
   "id": "f67919d0",
   "metadata": {},
   "outputs": [],
   "source": [
    "knn = KNeighborsClassifier(n_neighbors=3)"
   ]
  },
  {
   "cell_type": "markdown",
   "id": "11bcf82e",
   "metadata": {},
   "source": [
    "Обучим модель, ипользуя данные объекта признака и вектора целевой переменной:"
   ]
  },
  {
   "cell_type": "code",
   "execution_count": 441,
   "id": "b7dd1fbc",
   "metadata": {},
   "outputs": [
    {
     "data": {
      "text/plain": [
       "KNeighborsClassifier(n_neighbors=3)"
      ]
     },
     "execution_count": 441,
     "metadata": {},
     "output_type": "execute_result"
    }
   ],
   "source": [
    "knn.fit(X_train, y_train)"
   ]
  },
  {
   "cell_type": "markdown",
   "id": "4a5a5c53",
   "metadata": {},
   "source": [
    "Построим прогнозы для набора данных X_test:"
   ]
  },
  {
   "cell_type": "code",
   "execution_count": 447,
   "id": "65c80713",
   "metadata": {},
   "outputs": [
    {
     "data": {
      "text/plain": [
       "array([0, 0, 1, 0, 0, 1, 0, 1, 1, 0, 0, 1, 0, 0, 1, 0, 0, 0, 0, 1, 0, 1,\n",
       "       1, 0, 0, 0, 0, 1, 1, 0, 0, 0, 0, 0, 0, 1, 0, 1, 0, 0, 0, 0, 0, 0,\n",
       "       1, 0, 0, 0, 0, 1, 0, 1, 1, 1, 0, 0, 0, 0, 0, 0, 0, 0, 0, 1, 0, 0,\n",
       "       0, 0, 0, 0, 0, 1, 0, 0, 0, 1, 0, 0, 0, 1, 1, 1, 0, 0, 0, 0, 0, 1,\n",
       "       0, 1, 1, 0, 0, 0, 1, 1, 0, 1, 0, 0, 0, 0, 0, 1, 0, 0, 0, 0, 1, 0,\n",
       "       0, 1, 0, 0, 0, 0, 0, 0, 0, 1, 0, 0, 0, 0, 0, 0, 0, 0, 0, 0, 0, 1,\n",
       "       0, 0, 1, 1, 1, 0, 0, 0, 0, 0, 0, 0, 0, 0, 0, 1, 0, 1, 1, 0, 0, 0,\n",
       "       0, 1, 1, 0, 1, 1, 0, 0, 0, 1, 0, 0, 0, 0, 0, 0, 0, 1, 1, 0, 0, 1,\n",
       "       0, 0, 0, 1, 0, 0, 1, 0, 0, 0, 1, 1, 0, 0, 0, 1, 1, 1, 0, 1, 1, 1,\n",
       "       0, 0, 0, 0, 0, 1, 0, 1, 0, 0, 0, 0, 1, 0, 0, 0, 0, 0, 0, 1, 0, 0,\n",
       "       0, 1, 1, 1, 0, 0, 0, 1, 0, 0, 0, 0, 0, 0, 0, 0, 0, 0, 1, 0, 0, 0,\n",
       "       0, 0, 0, 0, 0, 0, 0, 0, 0, 0, 1, 0], dtype=int64)"
      ]
     },
     "execution_count": 447,
     "metadata": {},
     "output_type": "execute_result"
    }
   ],
   "source": [
    "knn_pred = knn.predict(X_test)\n",
    "knn_pred"
   ]
  },
  {
   "cell_type": "markdown",
   "id": "ea0d3498",
   "metadata": {},
   "source": [
    "## Логистическая регрессия"
   ]
  },
  {
   "cell_type": "markdown",
   "id": "cf04ce7f",
   "metadata": {},
   "source": [
    "Метод заключается в отнесении объекта к какому-то классу на основании его положения относительно плоскости, которая разбивает пространство объектов на кластеры."
   ]
  },
  {
   "cell_type": "markdown",
   "id": "aa81a5f4",
   "metadata": {},
   "source": [
    "Классифицируем данные методом LogisticRegression:"
   ]
  },
  {
   "cell_type": "code",
   "execution_count": 448,
   "id": "805734d8",
   "metadata": {},
   "outputs": [],
   "source": [
    "from sklearn.linear_model import LogisticRegression"
   ]
  },
  {
   "cell_type": "code",
   "execution_count": 449,
   "id": "f4c741d7",
   "metadata": {},
   "outputs": [],
   "source": [
    "log_reg = LogisticRegression()"
   ]
  },
  {
   "cell_type": "markdown",
   "id": "2e1c75d0",
   "metadata": {},
   "source": [
    "Обучим модель, ипользуя данные объекта признака и вектора целевой переменной:"
   ]
  },
  {
   "cell_type": "code",
   "execution_count": 450,
   "id": "c556a6de",
   "metadata": {},
   "outputs": [
    {
     "data": {
      "text/plain": [
       "LogisticRegression()"
      ]
     },
     "execution_count": 450,
     "metadata": {},
     "output_type": "execute_result"
    }
   ],
   "source": [
    "log_reg.fit(X_train, y_train)"
   ]
  },
  {
   "cell_type": "markdown",
   "id": "d55fcafb",
   "metadata": {},
   "source": [
    "Построим прогнозы для набора данных X_test:"
   ]
  },
  {
   "cell_type": "code",
   "execution_count": 451,
   "id": "f946171c",
   "metadata": {},
   "outputs": [],
   "source": [
    "log_reg_pred = log_reg.predict(X_test)"
   ]
  },
  {
   "cell_type": "markdown",
   "id": "1148ae9e",
   "metadata": {},
   "source": [
    "# Случайный лес"
   ]
  },
  {
   "cell_type": "markdown",
   "id": "2a2d2cdd",
   "metadata": {},
   "source": [
    "Метод заключается в использовании нескольких решающих деревьев."
   ]
  },
  {
   "cell_type": "markdown",
   "id": "e7ace05d",
   "metadata": {},
   "source": [
    "Классифицируем данные методом RandomForestClassifier:"
   ]
  },
  {
   "cell_type": "code",
   "execution_count": 452,
   "id": "c0c7b4b2",
   "metadata": {},
   "outputs": [],
   "source": [
    "from sklearn.ensemble import RandomForestClassifier"
   ]
  },
  {
   "cell_type": "code",
   "execution_count": 453,
   "id": "5e94d1e5",
   "metadata": {},
   "outputs": [],
   "source": [
    "rand_forest = RandomForestClassifier()"
   ]
  },
  {
   "cell_type": "markdown",
   "id": "d58283ec",
   "metadata": {},
   "source": [
    "Обучим модель, ипользуя данные объекта признака и вектора целевой переменной:"
   ]
  },
  {
   "cell_type": "code",
   "execution_count": 454,
   "id": "89a37d6d",
   "metadata": {},
   "outputs": [
    {
     "data": {
      "text/plain": [
       "RandomForestClassifier()"
      ]
     },
     "execution_count": 454,
     "metadata": {},
     "output_type": "execute_result"
    }
   ],
   "source": [
    "rand_forest.fit(X_train, y_train)"
   ]
  },
  {
   "cell_type": "markdown",
   "id": "3d04620a",
   "metadata": {},
   "source": [
    "Построим прогнозы для набора данных X_test:"
   ]
  },
  {
   "cell_type": "code",
   "execution_count": 455,
   "id": "01b8159c",
   "metadata": {},
   "outputs": [
    {
     "data": {
      "text/plain": [
       "array([0, 1, 1, 0, 0, 1, 0, 0, 0, 0, 1, 0, 0, 0, 0, 0, 1, 1, 0, 0, 0, 1,\n",
       "       1, 1, 0, 0, 0, 0, 0, 0, 0, 0, 0, 0, 1, 0, 0, 0, 0, 0, 1, 0, 0, 1,\n",
       "       0, 0, 1, 1, 0, 0, 1, 1, 0, 0, 1, 0, 0, 1, 0, 0, 1, 1, 0, 0, 0, 1,\n",
       "       0, 0, 1, 1, 1, 1, 1, 0, 0, 1, 1, 0, 1, 0, 0, 1, 1, 0, 0, 0, 1, 0,\n",
       "       1, 0, 0, 0, 0, 1, 1, 0, 0, 1, 1, 0, 0, 0, 0, 0, 1, 0, 0, 0, 0, 0,\n",
       "       0, 0, 1, 1, 0, 0, 1, 1, 0, 1, 0, 0, 0, 0, 0, 0, 0, 0, 0, 1, 1, 1,\n",
       "       1, 1, 0, 1, 0, 1, 0, 1, 0, 0, 0, 0, 0, 0, 0, 1, 0, 0, 1, 0, 0, 0,\n",
       "       0, 1, 0, 0, 0, 0, 0, 0, 0, 0, 0, 0, 0, 1, 0, 0, 0, 1, 1, 0, 0, 0,\n",
       "       1, 0, 0, 0, 0, 0, 0, 0, 1, 0, 1, 0, 1, 1, 0, 1, 0, 1, 1, 1, 0, 1,\n",
       "       0, 1, 0, 0, 1, 1, 0, 0, 0, 0, 1, 0, 0, 0, 0, 0, 1, 0, 0, 0, 0, 1,\n",
       "       0, 0, 0, 0, 0, 0, 0, 1, 0, 1, 0, 1, 1, 0, 1, 0, 0, 1, 0, 0, 0, 1,\n",
       "       0, 0, 1, 0, 0, 0, 0, 0, 0, 0, 0, 1], dtype=int64)"
      ]
     },
     "execution_count": 455,
     "metadata": {},
     "output_type": "execute_result"
    }
   ],
   "source": [
    "rand_forest_pred = rand_forest.predict(X_test)\n",
    "rand_forest_pred"
   ]
  },
  {
   "cell_type": "markdown",
   "id": "eb4d9a5f",
   "metadata": {},
   "source": [
    "# Оценка ошибки классификации."
   ]
  },
  {
   "cell_type": "markdown",
   "id": "b4a2d58a",
   "metadata": {},
   "source": [
    "## Метрика \"Accuracy\"."
   ]
  },
  {
   "cell_type": "markdown",
   "id": "ade43735",
   "metadata": {},
   "source": [
    "Метрика показывает процент значений, которые модель угадала правильно при проверке на тестовых данных."
   ]
  },
  {
   "cell_type": "markdown",
   "id": "e5c6462e",
   "metadata": {},
   "source": [
    "Оценка метрики \"Accuracy\" для модели k-ближайших:"
   ]
  },
  {
   "cell_type": "code",
   "execution_count": 456,
   "id": "01d9d339",
   "metadata": {},
   "outputs": [],
   "source": [
    "from sklearn.metrics import accuracy_score"
   ]
  },
  {
   "cell_type": "code",
   "execution_count": 457,
   "id": "ec71a1bf",
   "metadata": {},
   "outputs": [
    {
     "data": {
      "text/plain": [
       "0.594488188976378"
      ]
     },
     "execution_count": 457,
     "metadata": {},
     "output_type": "execute_result"
    }
   ],
   "source": [
    "score_knn = accuracy_score(y_test, knn_pred)\n",
    "score_knn"
   ]
  },
  {
   "cell_type": "markdown",
   "id": "864f6449",
   "metadata": {},
   "source": [
    "Оценка метрики \"Accuracy\" для модели Логическая регрессия:"
   ]
  },
  {
   "cell_type": "code",
   "execution_count": 458,
   "id": "eea1cb86",
   "metadata": {},
   "outputs": [
    {
     "data": {
      "text/plain": [
       "0.6377952755905512"
      ]
     },
     "execution_count": 458,
     "metadata": {},
     "output_type": "execute_result"
    }
   ],
   "source": [
    "score_log_reg = accuracy_score(y_test, log_reg_pred)\n",
    "score_log_reg"
   ]
  },
  {
   "cell_type": "markdown",
   "id": "0c744748",
   "metadata": {},
   "source": [
    "Оценка метрики \"Accuracy\" для модели Случайный лес:"
   ]
  },
  {
   "cell_type": "code",
   "execution_count": 459,
   "id": "3a9e400e",
   "metadata": {},
   "outputs": [
    {
     "data": {
      "text/plain": [
       "0.952755905511811"
      ]
     },
     "execution_count": 459,
     "metadata": {},
     "output_type": "execute_result"
    }
   ],
   "source": [
    "score_rand_forest = accuracy_score(y_test, rand_forest_pred)\n",
    "score_rand_forest"
   ]
  },
  {
   "cell_type": "markdown",
   "id": "335e7fff",
   "metadata": {},
   "source": [
    "Видим, что самая лучшая точность у модели случайный лес 94%, остальные же довольно сильно отстают. У логической регрессии – 63%, тогда как у k-ближайших самый худший результат 59%."
   ]
  },
  {
   "cell_type": "markdown",
   "id": "d253bd19",
   "metadata": {},
   "source": [
    "## Метрика \"Balanced accuracy\"."
   ]
  },
  {
   "cell_type": "markdown",
   "id": "ed5e91d3",
   "metadata": {},
   "source": [
    "Метрика показывает среднюю точность для классов и используется для оценки несбалансированных классов."
   ]
  },
  {
   "cell_type": "markdown",
   "id": "6fba5c2a",
   "metadata": {},
   "source": [
    "Оценка метрики \"Balanced accuracy\" для модели k-ближайших:"
   ]
  },
  {
   "cell_type": "code",
   "execution_count": 460,
   "id": "03ecb78f",
   "metadata": {},
   "outputs": [],
   "source": [
    "from sklearn.metrics import balanced_accuracy_score"
   ]
  },
  {
   "cell_type": "code",
   "execution_count": 461,
   "id": "3f2a9600",
   "metadata": {},
   "outputs": [
    {
     "data": {
      "text/plain": [
       "0.5341519055287172"
      ]
     },
     "execution_count": 461,
     "metadata": {},
     "output_type": "execute_result"
    }
   ],
   "source": [
    "balanced_score_knn = balanced_accuracy_score(y_test, knn_pred)\n",
    "balanced_score_knn"
   ]
  },
  {
   "cell_type": "markdown",
   "id": "7b0afa9a",
   "metadata": {},
   "source": [
    "Оценка метрики \"Balanced accuracy\" для модели логическая регрессия:"
   ]
  },
  {
   "cell_type": "code",
   "execution_count": 462,
   "id": "09c564b5",
   "metadata": {},
   "outputs": [
    {
     "data": {
      "text/plain": [
       "0.5"
      ]
     },
     "execution_count": 462,
     "metadata": {},
     "output_type": "execute_result"
    }
   ],
   "source": [
    "balanced_score_log_reg = balanced_accuracy_score(y_test, log_reg_pred)\n",
    "balanced_score_log_reg"
   ]
  },
  {
   "cell_type": "markdown",
   "id": "4e44993e",
   "metadata": {},
   "source": [
    "Оценка метрики \"Balanced accuracy\" для модели случайный лес:"
   ]
  },
  {
   "cell_type": "code",
   "execution_count": 463,
   "id": "bda031cf",
   "metadata": {},
   "outputs": [
    {
     "data": {
      "text/plain": [
       "0.9371309715512615"
      ]
     },
     "execution_count": 463,
     "metadata": {},
     "output_type": "execute_result"
    }
   ],
   "source": [
    "balanced_score_rand_forest = balanced_accuracy_score(y_test, rand_forest_pred)\n",
    "balanced_score_rand_forest"
   ]
  },
  {
   "cell_type": "markdown",
   "id": "b7df9d58",
   "metadata": {},
   "source": [
    "Видим, что самый лучший результат по прежнему у модели случайный лес 92%. В этот раз на втором месте k-ближайших - 53%, а самый худший результат показывает логическая регрессия 50%."
   ]
  },
  {
   "cell_type": "markdown",
   "id": "7e7ebbe0",
   "metadata": {},
   "source": [
    "# Метрика \"Precision\"."
   ]
  },
  {
   "cell_type": "markdown",
   "id": "81e59fc5",
   "metadata": {},
   "source": [
    "Метрика показывает какая доля прогнозов относительно \"1\" класса верна. То есть смотрим долю правильных ответов только среди целевого класса."
   ]
  },
  {
   "cell_type": "markdown",
   "id": "a9c2081d",
   "metadata": {},
   "source": [
    "Оценка метрики \"Precision\" для модели k-ближайших:"
   ]
  },
  {
   "cell_type": "code",
   "execution_count": 464,
   "id": "8bdeeac9",
   "metadata": {},
   "outputs": [],
   "source": [
    "# data['class'] = data['class'].replace(2, 0)\n",
    "# data['class'] = data['class'].replace(4, 1)"
   ]
  },
  {
   "cell_type": "markdown",
   "id": "1612baa7",
   "metadata": {},
   "source": [
    "Оценка метрики \"Precision\" для модели k-ближайших:"
   ]
  },
  {
   "cell_type": "code",
   "execution_count": 465,
   "id": "13366ba7",
   "metadata": {},
   "outputs": [],
   "source": [
    "from sklearn.metrics import precision_score"
   ]
  },
  {
   "cell_type": "code",
   "execution_count": 466,
   "id": "bca53efa",
   "metadata": {},
   "outputs": [
    {
     "data": {
      "text/plain": [
       "0.42028985507246375"
      ]
     },
     "execution_count": 466,
     "metadata": {},
     "output_type": "execute_result"
    }
   ],
   "source": [
    "precision_score_knn = precision_score(y_test, knn_pred)\n",
    "precision_score_knn"
   ]
  },
  {
   "cell_type": "markdown",
   "id": "e215bde3",
   "metadata": {},
   "source": [
    "Оценка метрики \"Precision\" для модели логическая регрессия:"
   ]
  },
  {
   "cell_type": "code",
   "execution_count": 467,
   "id": "406bc38d",
   "metadata": {},
   "outputs": [
    {
     "name": "stderr",
     "output_type": "stream",
     "text": [
      "C:\\Users\\Ivan\\anaconda3\\lib\\site-packages\\sklearn\\metrics\\_classification.py:1318: UndefinedMetricWarning: Precision is ill-defined and being set to 0.0 due to no predicted samples. Use `zero_division` parameter to control this behavior.\n",
      "  _warn_prf(average, modifier, msg_start, len(result))\n"
     ]
    },
    {
     "data": {
      "text/plain": [
       "0.0"
      ]
     },
     "execution_count": 467,
     "metadata": {},
     "output_type": "execute_result"
    }
   ],
   "source": [
    "precision_score_log_reg = precision_score(y_test, log_reg_pred)\n",
    "precision_score_log_reg"
   ]
  },
  {
   "cell_type": "markdown",
   "id": "867bde90",
   "metadata": {},
   "source": [
    "Оценка метрики \"Precision\" для модели случайный лес:"
   ]
  },
  {
   "cell_type": "code",
   "execution_count": 468,
   "id": "96788448",
   "metadata": {},
   "outputs": [
    {
     "data": {
      "text/plain": [
       "0.9878048780487805"
      ]
     },
     "execution_count": 468,
     "metadata": {},
     "output_type": "execute_result"
    }
   ],
   "source": [
    "precision_score_rand_forest = precision_score(y_test, rand_forest_pred)\n",
    "precision_score_rand_forest"
   ]
  },
  {
   "cell_type": "markdown",
   "id": "cadd25e9",
   "metadata": {},
   "source": [
    "Видим, что самый лучший результат у модели случайный лес 98%. На втором месте модель K-ближайших 42%. У Логической регрссии же возникла ошибка для прогнозов относительно 1, из-за которой всегда прогнозируется 0, следовательно и доля верных прогнозов 0%."
   ]
  },
  {
   "cell_type": "markdown",
   "id": "6116faa0",
   "metadata": {},
   "source": [
    "# Метрика \"Recall\""
   ]
  },
  {
   "cell_type": "markdown",
   "id": "27b399c7",
   "metadata": {},
   "source": [
    "Метрика показывает, сколько реальных объектов \"1\" класса вы смогла обнаружить модель."
   ]
  },
  {
   "cell_type": "markdown",
   "id": "2ec7a139",
   "metadata": {},
   "source": [
    "Оценка метрики \"Recall\" для модели k-ближайших:"
   ]
  },
  {
   "cell_type": "code",
   "execution_count": 469,
   "id": "d56ebe4f",
   "metadata": {},
   "outputs": [],
   "source": [
    "from sklearn.metrics import recall_score"
   ]
  },
  {
   "cell_type": "code",
   "execution_count": 470,
   "id": "c86741e4",
   "metadata": {},
   "outputs": [
    {
     "data": {
      "text/plain": [
       "0.31521739130434784"
      ]
     },
     "execution_count": 470,
     "metadata": {},
     "output_type": "execute_result"
    }
   ],
   "source": [
    "recall_score_knn = recall_score(y_test, knn_pred)\n",
    "recall_score_knn"
   ]
  },
  {
   "cell_type": "markdown",
   "id": "781f712c",
   "metadata": {},
   "source": [
    "Оценка метрики \"Recall\" для модели логическая регрессия:"
   ]
  },
  {
   "cell_type": "code",
   "execution_count": 471,
   "id": "fd34368c",
   "metadata": {},
   "outputs": [
    {
     "data": {
      "text/plain": [
       "0.0"
      ]
     },
     "execution_count": 471,
     "metadata": {},
     "output_type": "execute_result"
    }
   ],
   "source": [
    "recall_score_log_reg = recall_score(y_test, log_reg_pred)\n",
    "recall_score_log_reg"
   ]
  },
  {
   "cell_type": "markdown",
   "id": "a50c56ee",
   "metadata": {},
   "source": [
    "Оценка метрики \"Recall\" для модели случайный лес:"
   ]
  },
  {
   "cell_type": "code",
   "execution_count": 472,
   "id": "007f3409",
   "metadata": {},
   "outputs": [
    {
     "data": {
      "text/plain": [
       "0.8804347826086957"
      ]
     },
     "execution_count": 472,
     "metadata": {},
     "output_type": "execute_result"
    }
   ],
   "source": [
    "recall_score_rand_forest = recall_score(y_test, rand_forest_pred)\n",
    "recall_score_rand_forest"
   ]
  },
  {
   "cell_type": "markdown",
   "id": "b8b51e12",
   "metadata": {},
   "source": [
    "Видим, что самый лучший результат по прежнему у модели случайный лес 88%. Модель k-ближайших 31%. У логической регрессии 0%, по причине описанной в прошлой метрике."
   ]
  },
  {
   "cell_type": "markdown",
   "id": "30f20330",
   "metadata": {},
   "source": [
    "# Метрика \"F1 score\""
   ]
  },
  {
   "cell_type": "markdown",
   "id": "242aa8fa",
   "metadata": {},
   "source": [
    "Метрика позволяет получить общую оценку для метрик Точности и Полноты, которая учитывает обе метрики при подсчетах."
   ]
  },
  {
   "cell_type": "markdown",
   "id": "0936ef74",
   "metadata": {},
   "source": [
    "Оценка метрики \"F1 score\" для модели k-ближайших:"
   ]
  },
  {
   "cell_type": "code",
   "execution_count": 473,
   "id": "2941cec8",
   "metadata": {},
   "outputs": [],
   "source": [
    "from sklearn.metrics import f1_score"
   ]
  },
  {
   "cell_type": "code",
   "execution_count": 474,
   "id": "7af1e20a",
   "metadata": {},
   "outputs": [
    {
     "data": {
      "text/plain": [
       "0.360248447204969"
      ]
     },
     "execution_count": 474,
     "metadata": {},
     "output_type": "execute_result"
    }
   ],
   "source": [
    "f1_score_knn = f1_score(y_test, knn_pred)\n",
    "f1_score_knn"
   ]
  },
  {
   "cell_type": "markdown",
   "id": "1427d655",
   "metadata": {},
   "source": [
    "Оценка метрики \"F1 score\" для модели логическая регрессия:"
   ]
  },
  {
   "cell_type": "code",
   "execution_count": 475,
   "id": "cf65f589",
   "metadata": {},
   "outputs": [
    {
     "data": {
      "text/plain": [
       "0.0"
      ]
     },
     "execution_count": 475,
     "metadata": {},
     "output_type": "execute_result"
    }
   ],
   "source": [
    "f1_score_log_reg = f1_score(y_test, log_reg_pred)\n",
    "f1_score_log_reg"
   ]
  },
  {
   "cell_type": "markdown",
   "id": "748bfd0d",
   "metadata": {},
   "source": [
    "Оценка метрики \"F1 score\" для модели случайный лес:"
   ]
  },
  {
   "cell_type": "code",
   "execution_count": 476,
   "id": "7e9a65fb",
   "metadata": {},
   "outputs": [
    {
     "data": {
      "text/plain": [
       "0.9310344827586207"
      ]
     },
     "execution_count": 476,
     "metadata": {},
     "output_type": "execute_result"
    }
   ],
   "source": [
    "f1_score_rand_forest = f1_score(y_test, rand_forest_pred)\n",
    "f1_score_rand_forest"
   ]
  },
  {
   "cell_type": "markdown",
   "id": "1d5964af",
   "metadata": {},
   "source": [
    "Самый лучший результат по прежнему у модели случайный лес 93%. Модель k-ближайших 36%. У логической регрессии 0%, по причине описанной в прошлых двух метриках."
   ]
  },
  {
   "cell_type": "markdown",
   "id": "03604416",
   "metadata": {},
   "source": [
    "# Построение матрицы неточностей"
   ]
  },
  {
   "cell_type": "markdown",
   "id": "a94d6ff4",
   "metadata": {},
   "source": [
    "Матрица показывает количественную оценку предсказаний данных моделью, показывая сколько положительных и отрицательных значений угадано верно и ошибочно."
   ]
  },
  {
   "cell_type": "markdown",
   "id": "0a5966da",
   "metadata": {},
   "source": [
    "## Матрица неточностей для модели k-ближайших соседей"
   ]
  },
  {
   "cell_type": "code",
   "execution_count": 477,
   "id": "ab547766",
   "metadata": {},
   "outputs": [],
   "source": [
    "from sklearn.metrics import confusion_matrix\n",
    "from matplotlib import pyplot as plt"
   ]
  },
  {
   "cell_type": "code",
   "execution_count": 478,
   "id": "93c80ba3",
   "metadata": {},
   "outputs": [
    {
     "data": {
      "text/plain": [
       "<AxesSubplot:>"
      ]
     },
     "execution_count": 478,
     "metadata": {},
     "output_type": "execute_result"
    },
    {
     "data": {
      "image/png": "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\n",
      "text/plain": [
       "<Figure size 432x288 with 2 Axes>"
      ]
     },
     "metadata": {
      "needs_background": "light"
     },
     "output_type": "display_data"
    }
   ],
   "source": [
    "from sklearn.metrics import confusion_matrix\n",
    "import seaborn as sns\n",
    "\n",
    "cm = confusion_matrix(y_test, knn_pred)\n",
    "sns.heatmap(cm, annot=True, fmt=\".0f\")"
   ]
  },
  {
   "cell_type": "markdown",
   "id": "5a86083f",
   "metadata": {},
   "source": [
    "По данной матрицы, для модели k-ближайших соседей можно сделать вывод, что количество угаданных значений для 1 более чем в два раза меньше ошибочных значений, что говорит о плхом прогнозе моделью."
   ]
  },
  {
   "cell_type": "markdown",
   "id": "7551919a",
   "metadata": {},
   "source": [
    "## Матрица неточностей для модели логическая регрессия "
   ]
  },
  {
   "cell_type": "code",
   "execution_count": 479,
   "id": "21a5a4dc",
   "metadata": {},
   "outputs": [
    {
     "data": {
      "text/plain": [
       "<AxesSubplot:>"
      ]
     },
     "execution_count": 479,
     "metadata": {},
     "output_type": "execute_result"
    },
    {
     "data": {
      "image/png": "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\n",
      "text/plain": [
       "<Figure size 432x288 with 2 Axes>"
      ]
     },
     "metadata": {
      "needs_background": "light"
     },
     "output_type": "display_data"
    }
   ],
   "source": [
    "cm2 = confusion_matrix(y_test, log_reg_pred)\n",
    "sns.heatmap(cm2, annot=True, fmt=\".0f\")"
   ]
  },
  {
   "cell_type": "markdown",
   "id": "3683b55f",
   "metadata": {},
   "source": [
    "По данной матрицы, для модели логическая регрессия можно сделать вывод, что предсказание выполнено неправильно, т.к. предсказывается в любом случае только значение 0."
   ]
  },
  {
   "cell_type": "markdown",
   "id": "a30378cf",
   "metadata": {},
   "source": [
    "## Матрица неточностей для модели случайный лес"
   ]
  },
  {
   "cell_type": "code",
   "execution_count": 480,
   "id": "d01f083a",
   "metadata": {},
   "outputs": [
    {
     "data": {
      "text/plain": [
       "<AxesSubplot:>"
      ]
     },
     "execution_count": 480,
     "metadata": {},
     "output_type": "execute_result"
    },
    {
     "data": {
      "image/png": "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\n",
      "text/plain": [
       "<Figure size 432x288 with 2 Axes>"
      ]
     },
     "metadata": {
      "needs_background": "light"
     },
     "output_type": "display_data"
    }
   ],
   "source": [
    "cm3 = confusion_matrix(y_test, rand_forest_pred)\n",
    "sns.heatmap(cm3, annot=True, fmt=\".0f\")"
   ]
  },
  {
   "cell_type": "markdown",
   "id": "adb311a1",
   "metadata": {},
   "source": [
    "По данной матрицы, для модели случайный лес можно сделать вывод, что количество угаданных значений как для 1, так и для 0 довольно высокое, что говорит о хорошем прогнозе моделью."
   ]
  },
  {
   "cell_type": "markdown",
   "id": "a3905aeb",
   "metadata": {},
   "source": [
    "# Построение графика ROC-кривой"
   ]
  },
  {
   "cell_type": "markdown",
   "id": "eb1df899",
   "metadata": {},
   "source": [
    "График ROC-кривой позволяет оценить при каком пороговом значении модель будет давать лучший результат при классификации данных."
   ]
  },
  {
   "cell_type": "code",
   "execution_count": 274,
   "id": "7ca041ae",
   "metadata": {},
   "outputs": [],
   "source": [
    "from sklearn.metrics import RocCurveDisplay"
   ]
  },
  {
   "cell_type": "markdown",
   "id": "d8eb6417",
   "metadata": {},
   "source": [
    "## График ROC-кривой для модели k-ближайших соседей"
   ]
  },
  {
   "cell_type": "code",
   "execution_count": 275,
   "id": "969904c6",
   "metadata": {},
   "outputs": [
    {
     "data": {
      "text/plain": [
       "<sklearn.metrics._plot.roc_curve.RocCurveDisplay at 0x17796377190>"
      ]
     },
     "execution_count": 275,
     "metadata": {},
     "output_type": "execute_result"
    },
    {
     "data": {
      "image/png": "iVBORw0KGgoAAAANSUhEUgAAAYIAAAEGCAYAAABo25JHAAAAOXRFWHRTb2Z0d2FyZQBNYXRwbG90bGliIHZlcnNpb24zLjUuMSwgaHR0cHM6Ly9tYXRwbG90bGliLm9yZy/YYfK9AAAACXBIWXMAAAsTAAALEwEAmpwYAAA840lEQVR4nO3dd3gVZfbA8e8hCb0TmkASeieUUAUEsVBUxA6CBfm56gKWtTcUsS52UWQRWYoIFhARsYIUiZBQQ+glJIB0CAmEtPP7Yy7ZEAL3BnJzU87nefLkTj9zA3Nm5p05r6gqxhhjiq5ivg7AGGOMb1kiMMaYIs4SgTHGFHGWCIwxpoizRGCMMUWcv68DyKnAwEANCQnxdRjGGFOgREZGHlLVqtlNK3CJICQkhIiICF+HYYwxBYqIxJxvmt0aMsaYIs4SgTHGFHGWCIwxpoizRGCMMUWcJQJjjCnivJYIRGSSiBwQkajzTBcR+UBEtonIOhFp661YjDHGnJ83rwgmA70vML0P0ND1cz/wiRdjMcYYcx5eSwSquhg4coFZ+gNT1BEOVBSRmt6KxxhjCqqjicl8+sd2wncc9sr6fflCWS0gNtNwnGvcvqwzisj9OFcNBAUF5Ulwxhjja2tjjzFleQzfr9tLcmo6D/aoT6d6VXJ9O75MBJLNuGx7yVHVCcAEgLCwMOtJxxhTaCWlpDF37V6mhcewLu44pYv7cVtYbQZ3CqZJjfJe2aYvE0EcUCfTcG1gr49iMcYYn4o5nMj0v3YzKyKWYydTaFCtLKP7N2dAm1qUKxng1W37MhHMBYaLyJdAR+C4qp5zW8gYYwqrtHRl0eYDTFkewx9bDuJXTLi2eXWGdAqhU73KiGR34yT3eS0RiMgMoAcQKCJxwCggAEBVxwPzgb7ANuAkcK+3YjHGmPzkcMJpZkXEMf2vGOKOnqJauRI83KshgzoGUb18yTyPx2uJQFUHupmuwD+9tX1jjMlPVJXVsceYtjyGeev2kZyWTqd6lXm2b1OubladAD/fvd9b4MpQG2NMQXIqOY25a/cwNTyGqD3xlC3hzx0d6jCkUzANq5fzdXiAJQJjjPGKnYcSmRYew1cRscQnpdKoelleubEFA9rUomyJ/HXozV/RGGNMAZaWrvy2cT9Tw2NYsvUQ/sWE3i1qMKRTMB3q5l3jb05ZIjDGmEt0KOE0M1fG8sVfu9lz7BQ1ypfksasbcUf7OlTzQeNvTlkiMMaYi6CqrNp9lCnLY5i/fh8pacrlDarwwnVNuappdfx92PibU5YIjDEmB04mp/Ldmr1MXR5D9L54ypXw586OwQzuFEyDamV9Hd5F8SgRiEgxIBS4DDgFbFDV/d4MzBhj8pPtBxOYFh7D15FxnEhKpUmNcrw2oCX9W19GmXzW+JtTF4xeROoDTwFXAVuBg0BJoJGInAQ+Bf6rquneDtQYY/Jaalo6v248wLTwGJZuO0SAn9CnRU3u6hxMu+BK+bbxN6fcpbExOP0E/MP1AlgGEakGDAKGAP/1TnjGGJP3DpxIYuaKWL5YsZt9x5O4rEJJHr+mEbe3D6JquRK+Di/XXTARXOjtYFU9ALyX2wEZY4wvqCordx1langMC6Kcxt9uDQN56Ybm9GpSrUA1/ubURd/YEpGrVfWX3AzGGGPyWuLpVGav3sO08Bg2/X2CciX9GdIphDs7BVG/asFs/M2pS2nh+AywXmKMMQXStgMnmLo8hm9W7SHhdCrNapbnjZtackPryyhdvGA3/uaUu8biueebBOR+NznGGONFKWnp/Bq9nynLY1i+4zDF/YrRr1VNBncKpm1QxULT+JtT7tJeN2AwkJBlvAAdvBKRMcbksgPxSXyxYjczVuxmf/xpalUsxZO9G3NbWB0Cyxa+xt+ccpcIwoGTqvpH1gkistk7IRljzKVTVf7aeYSpy2P4acPfpKYr3RtV5dUbg+nZpBp+xYrm2X923D011OcC07rnfjjGGHNpTiSlMGe1U/Z5y/4EKpQK4J4uIQzuFExIYBlfh5cvFa0WEWNMobVlv9P4++2qOBKT02hRqzxv3dyK60Mvo1RxP1+Hl69ZIjDGFFgpaen8tOFvpi6P4a+dRyjuX4zrWtVkSKdgWtcpuo2/OWWJwBhT4Px9/H+NvwdPnKZ2pVI83acJt4XVoXKZ4r4Or8CxRGCMKRBUleXbDzM1PIafo/eTrkqPRlUZ0jmYKxpZ4++l8DgRiMhLqvrS+YaNMcYb4pNS+DYyjqnhMWw/mEjF0gEM61qXQR2DCK5ijb+5ISdXBJFuho0xJtds+jueKctjmLN6DyeT0witXYGxt4ZyXaualAywxt/c5HEiUNXvLzRsjDGXKjk1nQUb/mbq8l2s3HWUEv7FuCH0MgZ3Cia0TkVfh1douSsx8SGg55uuqiNzPSJjTJGz99gpZqzYzYwVsRxKOE1Q5dI827cJt7arQyVr/PU6d1cEEXkShTGmyFFVlm07zNTwXfwSvR8FrmxcjSGdg+nesCrFrPE3z7h7s/isDmdEpIyqJno3JGNMYXb8VArfRMYxLTyGHYcSqVymOPd3r8+dHYOoU7m0r8Mrkjzts7gzTtnpskCQiITi9Fr2kDeDM8YUHhv2HmdaeAxzVu/lVEoabYIq8s5tofRtaY2/vuZpY/F7wLXAXABVXSsiVmvIGHNBp1PT+HH930wNjyEy5iglA4rRP7QWQzoH06JWBV+HZ1xy8tRQbJbXtdNyPxxjTGGw59gppofHMHNlLIcTkwmpUprn+zXl1nZ1qFA6wNfhmSw8TQSxItIFUBEpDowENnovLGNMQZOerizZdoipy2P4fdN+AHo1rc6QTsF0bRBojb/5mKeJ4AHgfaAWsAf4Cfint4IyxhQcx0+m8FVkLNPCY9h1+CRVyhTnwR71GdghiNqVrPG3IPAoEajqIeDOnK5cRHrjJBA/YKKqvpFlegVgGk7fx/7AWFX9PKfbMcbkvag9x5myfBdz1+4lKSWddsGVePTqRvRuUYMS/tb4W5B4+tRQPZwDeiecF8yWA4+q6o4LLOMHjAOuBuKAlSIyV1WjM832TyBaVa8XkarAZhGZrqrJF7c7xhhvSkpJY/76fUxZHsOa2GOUCvBjQJvaDO4URPPLrPG3oPL01tAXOAf1Aa7hO4AZQMcLLNMB2HYmWYjIl0B/IHMiUKCcOK3QZYEjQKrH0Rtj8kTskZNM/2s3syJiOZKYTL3AMrx4XTNublebCqWs8beg8zQRiKpOzTQ8TUSGu1mmFhCbaTiOcxPHRziPpO4FygG3q2r6ORsXuR+4HyAoKMjDkI0xlyI9Xflj60GmLY/h980HEODqZtW5q3MIXepXsU5fChF3tYYquz4uFJGngS9xzuJvB35ws+7s/pVkrVt0LbAGuBKoD/wiIktUNf6shVQnABMAwsLCzlv7yBhz6Y4mJrsaf3ez+8hJAsuWYHjPBgzsEMRlFUv5OjzjBe6uCCJxDt5nDur/yDRNgVcusGwcUCfTcG2cM//M7gXeUFUFtonITqAJsMJNXMaYXLY/PomxP21m7tq9nE5Np0NIZR6/tjG9m9eguH8xX4dnvMhdraG6l7DulUBDEamL88jpHcCgLPPsBnoBS0SkOtAYOG8DtDHGO37ftJ/Hv1rHyeRUbmlXm8Gdgmlas7yvwzJ5JCc9lLUAmgElz4xT1Snnm19VU13tCD/hPD46SVU3iMgDrunjca4oJovIepyrjqdcj6oaY/JAcmo6by3YxMSlO2laszwfDmxDg2plfR2WyWOePj46CuiBkwjmA32ApcB5EwGAqs53zZ953PhMn/cC1+QoYmNMrth1KJERM1azfs9x7u4czDN9m1rxtyLK0yuCW4BQYLWq3uu6jTPRe2EZY7zpuzV7ePbb9fj7FePTIe24tnkNX4dkfMjTRHBKVdNFJFVEygMHgHpejMsY4wUnk1MZ9d0GvoqMIyy4Eu8PbEMtexKoyPM0EUSISEXgPzhPEiVgT/YYU6BE741nxIxV7DiUyIgrG/Bwr4b4+9nTQMbzWkNnOqAZLyILgPKqus57YRljcouqMi08hld+2EjFUgFMv68jXRoE+josk4+4e6Gs7YWmqeqq3A/JGJNbjp1M5qlv1vHThv30aFyVt28NpUrZEr4Oy+Qz7q4I3r7ANMV5I9gYkw9F7DrCyBmrOZhwmuf7NWXo5XWtTwCTLXcvlPXMq0CMMbkjLV35ZNE23v11K7UqluLrB7oQWqeir8My+ZjHL5QZY/K/A/FJPDJzDX9uP8z1oZfx2oAWlCtp1UHNhVkiMKaQWLj5AI/PWkticipv3dyKW8NqW4VQ4xFLBMYUcMmp6Yz9eTMTFu+gSY1yzBzUiQbVyvk6LFOAeFpiQnC6qqynqqNFJAiooar2LoExPrT78ElGzFjF2rjjDOkUzHP9rEyEyTlPrwg+BtJxnhIaDZwAvgHaeykuY4wb36/dyzPfrqeYwPjBbendoqavQzIFlKeJoKOqthWR1QCqelREinsxLmPMeZxKTuPl7zfw5cpY2gZV5IOBbahdqbSvwzIFmKeJIMXVGb0CuDqaP6dLSWOMd236O57hX6xm+8EE/tmzPo9c1YgAKxNhLpGnieADYDZQTURexalG+rzXojLGnEVVmf7Xbl6ZF035UgFMHdqRrg2tTITJHZ7WGpouIpE4vYkJcKOqbvRqZMYYAI6fTOHpb9fxY9TfdG9UlXduCyXQykSYXOTpU0PvAzNVdZyX4zHGZBIZc5SRM1azPz6JZ/o04f+61bMyESbXeXpraBXwvIg0wrlFNFNVI7wXljFFW3q6Mn7xdt7+eQs1K5Tkqwc60yaokq/DMoWUp7eG/gv8V0QqAzcDb4pIkKo29Gp0xhRBB04k8djMtSzddoh+rWry+k0tKW9lIowX5fTN4gZAEyAEiM71aIwp4v7YcpB/zVpDwulU3ripJbe3r2NlIozXedpG8CZwE7AdmAW8oqrHvBiXMUVKSppTJuLTP3bQqHpZvvi/TjSqbmUiTN7w9IpgJ9BZVQ95MxhjiqLYIycZMWM1a2KPcWfHIF64rpmViTB5yl0PZU1UdRNO/8RBrhpDGayHMmMuzQ/r9vH0N+tAYNygtvRrZWUiTN5zd0XwGHA/2fdUZj2UGXORTiWnMXpeNDNW7KZ1nYp8OLANdSpbmQjjG+56KLvf9bGPqiZlniYiJb0WlTGF2Jb9Jxj+xSq27E/gwR71eexqKxNhfMvTNoI/gawd2Wc3zhhzHqrKjBWxvPz9BsqV9GfK0A50b1TV12EZ47aNoAZQCyglIm1wyksAlAfsOtYYDx0/lcKz367nh/X76NYwkLdvC6VaObuoNvmDuyuCa4F7gNrAO5nGnwCe9VJMxhQqq3cfZcSM1ew7nsRTvZvwj+5WJsLkL+7aCM68UXyzqn6TRzEZUyikpysTluxg7E+bqV6+JLP+0Zl2wVYmwuQ/7m4NDVbVaUCIiDyWdbqqvpPNYsYUeQdPnOaxWWtYsvUQfVvW4PWbWlGhlJWJMPmTu1tDZVy/y17MykWkN/A+4AdMVNU3spmnB/AeEAAcUtUrLmZbxuQXS7Ye5NGZazmRlMJrA1oysIOViTD5m7tbQ5+6fr+c0xW7ejQbB1wNxAErRWSuqkZnmqciTn/IvVV1t4hUy+l2jMkvUtLSeeeXLYz/YzsNqpZl+rCONK5hZSJM/ufRw8si8paIlBeRABH5TUQOichgN4t1ALap6g5VTQa+BPpnmWcQ8K2q7gZQ1QM53QFj8oPYIye5/dPlfLJoO3e0r8Pc4V0tCZgCw9O3WK5R1XjgOpyz+0bAE26WqQXEZhqOc43LrBFQSUQWiUikiNyV3YpE5H4RiRCRiIMHD3oYsjF548f1++j7wRK27k/gw4FteP2mVpQqbrWCTMHh6QtlZ1q5+gIzVPWIB/c8s5tBs9l+O5wuMEsBy0UkXFW3nLWQ6gRgAkBYWFjWdRjjE0kpabwyL5rpf+0mtE5FPryjDUFV7PUaU/B4mgi+F5FNwCngIRGpCiS5WSYOqJNpuDawN5t5DqlqIpAoIouBUGALxuRjW/efYPgXq9m8/wT/6F6Pf13TmOL+VibCFEwe/ctV1aeBzkCYqqYAiZx7vz+rlUBDEakrIsWBO4C5Web5DugmIv4iUhroCGzMyQ4Yk5dUlZkrd3P9R0s5lHCa/w7twDN9m1oSMAWapx3TBABDgO6uW0J/AOMvtIyqporIcOAnnMdHJ6nqBhF5wDV9vKpuFJEFwDogHecR06iL3htjvCg+KYXnZkfx/dq9XN6gCu/e1ppq5a1MhCn4RNX9LXcRmYjTTvBf16ghQJqqDvNibNkKCwvTiIiIvN6sKeLWxh5jxIzV7Dl2iseubsQDV9THz8pEmAJERCJVNSy7aZ62EbRX1dBMw7+LyNpLD82Y/C09XZm4dAdvLThTJqIT7YIr+zosY3KVp4kgTUTqq+p2ABGpB6R5LyxjfO9Qwmn+NWstf2w5SO/mNXjz5lZUKG1lIkzh42kieAJYKCI7cB4LDQbu9VpUxvjYsm2HeGTmGo6fSuGVG1swuGOQlYkwhZbbROB6VPQ4zpvC1XASwSZVPe3l2IzJc6lp6bz361bGLdpGvcAyTBnagaY1y/s6LGO8yl310WHAa8B2oC5wv6pmfQTUmEJhz7FTPDxjNRExR7ktrDYv3dCc0sU9vWg2puBy96/8EaC5qh50tQtM59x3AYwp8BZE/c2TX68lXeH9O1rTv3XWaijGFF7uEkGyqh4EUNUdIlIiD2IyJs8kpaTx6g8bmRoeQ6vaFfhwYBuCq5Rxv6AxhYi7RFBbRD4437CqjvROWMZ437YDCQz/YhWb/j7B/3WryxPXNrE3hE2R5C4RZK0wGumtQIzJK6rKV5FxjPpuA6WK+/H5ve3p2di6wjBFlyd9FhtTaJxISuH5OVF8t2YvnetV4b07WlPdykSYIs7dU0MTgA+yq/8jImWA24HTqjrdS/EZk2vWxTllImKPnORfVzfioZ4NrEyEMbi/NfQx8KKItASigINASaAhUB6YhPMkkTH5Vnq6MmnZTt5csImqZUsw8x+daR9iZSKMOcPdraE1wG0iUhYIA2ri9EmwUVU3ez88Yy7N4YTTPP7VWhZuPsg1zarz1i2tqFi6uK/DMiZf8ehtGVVNABZ5NxRjctfy7Yd5ZOZqjp5MYXT/5gzpFGxlIozJhr02aQqd1LR0PvhtKx8u3EbdwDJMuqc9zS+r4OuwjMm3LBGYQmXvsVM8/OVqVu46yi3tavPyDc0pU8L+mRtzITn6HyIiZVz9CxuT7/y84W+e+HqdUzju9tbc2MbKRBjjCY9eoxSRLiISjas/YREJFZGPvRqZMR5KSknjpbkbuH9qJHUql2LeyG6WBIzJAU+vCN4FrsVVcE5V14pId69FZYyHth9MYMQXq4neF899XevyZO/GlPD383VYxhQoHt8aUtXYLE9cWA9lxqe+iYzjhe+iKOFfjM/uDqNX0+q+DsmYAsnTRBArIl0AFZHiwEhct4mMyWsJp1N5YU4Us1fvoWPdyrx/RxtqVLAyEcZcLE8TwQPA+0AtIA74GXjIW0EZcz5Re44z/ItV7D5ykkevasTwK61MhDGXytNE0FhV78w8QkQuB5blfkjGnEtV+XzZLl7/cSOBZUsw4/860bFeFV+HZUyh4Gki+BBo68E4Y3LdkcRknvx6Lb9uPMBVTavz71taUamMlYkwJre4qz7aGegCVBWRxzJNKg/YoxnG68J3HOaRL9dwJDGZl65vxt1dQqxMhDG5zN0VQXGgrGu+cpnGxwO3eCsoY9LS1SkT8ftWgquU4du7u9CilpWJMMYb3FUf/QP4Q0Qmq2pMHsVkirh9x0/x8JdrWLHzCDe1rcXo/i0oa2UijPEaT/93nRSRfwPNcfojAEBVr/RKVKbI+jV6P49/vZbk1HTevjWUm9vV9nVIxhR6niaC6cBM4DqcR0nvxumkxphccTo1jTd+3MTny3bR/LLyfDiwDfWqlvV1WMYUCZ4mgiqq+pmIPJzpdtEf3gzMFB07DyUy/ItVbNgbzz1dQnimbxMrE2FMHvI0EaS4fu8TkX7AXsCu2c0lm706judnRxHgX4z/3BXG1c2sTIQxec2j6qPAGBGpAPwLeByYCDzibiER6S0im0Vkm4g8fYH52otImojYk0hFROLpVB6btYZHZ66l+WUV+PHhbpYEjPERT7uqnOf6eBzoCRlvFp+XiPgB44CrccpSrBSRuaoanc18bwI/5Sx0U1Bt2HucEV+sZtfhRB7u1ZARVzbA38/TcxJjTG5z90KZH3AbTo2hBaoaJSLXAc8CpYA2F1i8A7BNVXe41vUl0B+IzjLfCOAboP1F7YEpMFSVKctjePWHjVQqE8D0YZ3oXN/KRBjja+6uCD4D6gArgA9EJAboDDytqnPcLFsLiM00HAd0zDyDiNQCBgBXcoFEICL3A/cDBAUFudmsyY+OJibz5Dfr+CV6P72aVOPft4ZS2cpEGJMvuEsEYUArVU0XkZLAIaCBqv7twbqzqwOgWYbfA55S1bQLlQ1Q1QnABICwsLCs6zD53IqdR3j4y9UcSjjNi9c1497LrUyEMfmJu0SQrKrpAKqaJCJbPEwC4FwB1Mk0XBvnaaPMwoAvXQeFQKCviKR6cLVhCoC0dGXcwm289+sWgiqX5tsHL6dlbSsTYUx+4y4RNBGRda7PAtR3DQugqtrqAsuuBBqKSF1gD3AHMCjzDKpa98xnEZkMzLMkUDjsj0/i4S9XE77jCDe2vowxA1pamQhj8il3/zObXuyKVTVVRIbjPA3kB0xS1Q0i8oBr+viLXbfJ337ftJ/Hv1rHqeQ0xt4ays1ta9mtIGPyMXdF5y6p0JyqzgfmZxmXbQJQ1XsuZVvG95JT03lrwSYmLt1J05rl+WhQG+pbmQhj8j27Vje5YtehREbMWM36Pce5u3Mwz/RtSskAKxNhTEFgicBcsu/W7OHZb9fj71eMT4e049rmNXwdkjEmBzxOBCJSCghS1c1ejMcUICeTUxn13Qa+ioyjfUgl3rujDbUqlvJ1WMaYHPIoEYjI9cBYnB7L6opIa2C0qt7gxdhMPha9N54RM1ax41AiI69swMheDa1MhDEFlKdXBC/hlIxYBKCqa0QkxDshmfxMVZkWHsMrP2ykYqkApg/rSJf6gb4OyxhzCTxNBKmqetweASzajp1M5qlv1vHThv30aFyVt28NpUrZEr4OyxhziTxNBFEiMgjwE5GGwEjgT++FZfKbiF1HGDljNQcTTvN8v6YMvbwuxYrZiYExhYGnN3VH4PRXfBr4Aqcc9SNeisnkI2npyke/b+X2CeH4+xXj6we6MKxbPUsCxhQinl4RNFbV54DnvBmMyV8OxCfxyMw1/Ln9MDeEXsarA1pQrmSAr8MyxuQyTxPBOyJSE/gK+FJVN3gxJpMPLNx8gMdnreVkchpv3dKKW9vVtjIRxhRSnvZQ1lNEauB0UjNBRMoDM1V1jFejM3nuSGIyr8/fyFeRcTSpUY6PBrWhQbVyvg7LGONFHr9Q5io//YGILASeBF4ELBEUEqrK15FxvDZ/IyeSUnngivo8clVDKxNhTBHg6QtlTYHbgVuAw8CXOB3Zm0Jg24ETPDs7ihU7jxAWXIlXB7SkcQ27CjCmqPD0iuBzYAZwjapm7VzGFFBJKWmMW7iN8X9sp3Rxf964qSW3hdWxJ4KMKWI8bSPo5O1ATN5avOUgL3wXRczhk9zUphbP9mtKoL0cZkyRdMFEICKzVPU2EVnP2f0Ne9JDmcmHDpxI4pV5G/l+7V7qBZbhi2Ed6dLASkQYU5S5uyJ42PX7Om8HYrwrPV2ZvmI3by3YxOmUdB65qiEP9qhPCX9rDDamqHPXQ9k+18eHVPWpzNNE5E3gqXOXMvlN9N54np29njWxx+hSvwpjbmxBPes5zBjj4mlj8dWce9Dvk804k48knk7lvV+3MGnZLiqWCuDd20O5sbX1H2yMOZu7NoIHgYeAeiKyLtOkcsAybwZmLs0v0fsZ9V0Ue48nMbBDEE/3bkKF0lYewhhzLndXBF8APwKvA09nGn9CVY94LSpz0fYeO8VLczfwc/R+Glcvx9cD2xAWUtnXYRlj8jF3iUBVdZeI/DPrBBGpbMkg/0hNS2fyn7t455ctpKvydJ8m3Ne1LgHWa5gxxg1PrgiuAyJxHh/NfHNZgXpeisvkwJrYYzz77Xqi98VzZZNqvHxDc+pULu3rsIwxBYS7p4auc/2umzfhmJyIT0ph7E+bmRoeQ7VyJfjkzrb0blHDGoONMTniaa2hy4E1qpooIoOBtsB7qrrbq9GZbKkq89btY/S8aA4nnObuziH865pG1leAMeaiePr46CdAqIiE4lQe/QyYClzhrcBM9nYfPskL30Xxx5aDtKxVgUl3t6dl7Qq+DssYU4DlpPN6FZH+wPuq+pmI3O3NwMzZklPT+c+SHXzw21YC/Iox6vpm3NU5BD8rEGeMuUSeJoITIvIMMAToJiJ+gN2HyCMrdh7hudnr2XoggT4tajDq+ubUqFDS12EZYwoJTxPB7cAgYKiq/i0iQcC/vReWATiamMzrP25kVkQctSqWYtI9YVzZpLqvwzLGFDKelqH+W0SmA+1F5DpghapO8W5oRZeq8s2qPbw2fyPxp1L4xxX1eLhXQ0oX97hDOWOM8ZhHbxuJyG3ACuBWnH6L/xKRWzxYrreIbBaRbSLydDbT7xSRda6fP12N0UXatgMJDPxPOI9/tZaQKqWZN7Irz/RpaknAGOM1nh5dngPaq+oBABGpCvwKfH2+BVztCONwCtbFAStFZK6qRmeabSdwhaoeFZE+wASgY853o+BLSknj44Xb+OSP7ZQK8OP1m1pyu/UWZozJA54mgmJnkoDLYdxfTXQAtqnqDgAR+RLoD2QkAlX9M9P84UBtD+MpVJZsPcgLc6LYdfgkA9rU4jnrLcwYk4c8TQQLROQnnH6LwWk8nu9mmVpAbKbhOC58tn8fToG7c4jI/cD9AEFBQZ7EWyAcOJHEmHkbmbt2L3UDyzDtvo50bWi9hRlj8panjcVPiMhNQFecekMTVHW2m8Wyu6eh2YxDRHriJIKu59n+BJzbRoSFhWW7joIkPV2ZsXI3b/zo9Bb2cC+nt7CSAdZbmDEm77nrj6AhMBaoD6wHHlfVPR6uOw6ok2m4NrA3m220AiYCfVT1sIfrLrA27nN6C1u9+xid61VhzIAW1LfewowxPuTuimASMAVYDFwPfAjc5OG6VwINRaQusAe4A+ddhAyu9xG+BYao6pYcxF3gnExO5b1ft/LZ0p1UKBXAO7eFMqCN9RZmjPE9d4mgnKr+x/V5s4is8nTFqpoqIsOBnwA/YJKqbhCRB1zTxwMvAlWAj10HxFRVDcvpTuR3v0bvZ9TcDew5doo72tfh6T5NqFi6uK/DMsYYwH0iKCkibfjf/f5SmYdV9YKJQVXnk6VR2ZUAznweBgzLadAFxb7jTm9hP23YT6PqZfnqgc60t97CjDH5jLtEsA94J9Pw35mGFbjSG0EVdKlp6fx3eQzv/LyZNFWe7N2YYV3rUdzfegszxuQ/7jqm6ZlXgRQWa2OP8ezs9WzYG0+PxlV5pX8L6y3MGJOvWd2CXBKflMLbP21mSngMVcuW4OM729LHegszxhQAlggukaoyf/3fvPz9Bg4mnOauTsH869rGlLfewowxBYQlgksQe8TpLWzR5oO0qFWeiXeH0ap2RV+HZYwxOeJpn8UC3AnUU9XRruf/a6jqCq9Gl08lp6YzcanTW5ifCC9e14y7Ogfj72eNwcaYgsfTK4KPgXScp4RGAyeAb4D2Xoor31q5y+ktbMv+BHo3r8GoG5pRs0IpX4dljDEXzdNE0FFV24rIagBX2egi9UbU0cRk3vhxEzMjYqlVsRSf3R1Gr6bWW5gxpuDzNBGkuPoXUMjojyDda1HlI6rKt6v28Or8jRw/lcI/utfj4austzBjTOHh6dHsA2A2UE1EXgVuAZ73WlT5xPaDCTw/O4rlOw7TJqgirw1oSdOa5X0dljHG5CpPy1BPF5FIoBdOeYkbVXWjVyPzoaSUND5etJ3xi7ZTMqAYrw5owcD2QdZbmDGmUPL0qaEg4CTwfeZxqrrbW4H5SviOwzzz7Xp2Hkqkf+vLeL5fM6qWs97CjDGFl6e3hn7AaR8QoCRQF9gMNPdSXD5xJDGZez5fQfXyJZl6Xwe6Nazq65CMMcbrPL011DLzsIi0Bf7hlYh8aMaK3SSlpDPxrjAaVi/n63CMMSZPXNQbUK7y04XqHYLk1HSmLN9Ft4aBlgSMMUWKp20Ej2UaLAa0BQ56JSIf+TFqH/vjT/PGTa18HYoxxuQpT9sIMp8ip+K0GXyT++H4hqry2dKd1AsswxWNrF3AGFO0uE0ErhfJyqrqE3kQj0+s2n2UdXHHeaV/c3tE1BhT5FywjUBE/FU1DedWUKE1aekuypf056a2tX0dijHG5Dl3VwQrcJLAGhGZC3wFJJ6ZqKrfejG2PLHn2CkWbPibYV3rUqaElY0wxhQ9nh75KgOHcaqPnnmfQIECnwimLN8FwF1dQnwahzHG+Iq7RFDN9cRQFP9LAGeo16LKIyeTU5nx1256N69BrYpWSjo/SUlJIS4ujqSkJF+HYkyBUrJkSWrXrk1AgOe9JLpLBH5AWc5OAGcU+ETwzao9xCelMrRriK9DMVnExcVRrlw5QkJCrN9nYzykqhw+fJi4uDjq1q3r8XLuEsE+VR19aaHlT+npyufLdhJauwJtgyr5OhyTRVJSkiUBY3JIRKhSpQoHD+bsNS93bxYX2v+Ff2w9yI6DiQztWtcONvmU/V2MybmL+X/jLhH0urhQ8r9JS3dSvXwJ+rSo6etQjDHGpy6YCFT1SF4Fkpe27D/Bkq2HuKtzCMX9rcN5k72yZctmfJ4/fz4NGzZk9+7dvPTSS5QuXZoDBw5kO+/59O3bl2PHjl1wnh49ehAREXHO+MmTJzN8+HDPg8+BsWPH0qRJE1q0aEFoaChTpky5YCwXIyIigpEjRwJw+vRprrrqKlq3bs3MmTMZNmwY0dHRl7T+9957LyNugNTUVAIDA3nmmWfOmi8kJIRDhw5lDC9atIjrrrsuY/jHH38kLCyMpk2b0qRJEx5//PFLigsgMjKSli1b0qBBA0aOHInquc2ru3btolSpUrRu3ZrWrVvzwAMPZEybMWMGLVu2pFWrVvTu3Tsj/o8++ojPP//8kuODiyw6V9B9vmwXJfyLMbBDkK9DMQXAb7/9xogRI1iwYAFBQc6/mcDAQN5+++0crWf+/PlUrFjRCxFemKqSnp59z7Ljx4/nl19+YcWKFURFRbF48eJsD1SXKiwsjA8++ACA1atXk5KSwpo1a7j99tuZOHEizZo183hdaWlpZw2npqYyadIkBg0alDHu559/pnHjxsyaNcvj/YmKimL48OFMmzaNjRs3EhUVRb169TyO63wefPBBJkyYwNatW9m6dSsLFizIdr769euzZs0a1qxZw/jx4zP27eGHH2bhwoWsW7eOVq1a8dFHHwEwdOjQjO/0UhW5N6iOJibz7ao4bmpbi8plivs6HOOBl7/fQPTe+FxdZ7PLyjPqevfdaSxZsoT/+7//Y/78+dSvXz9j/NChQ5k8eTJPPfUUlStXPmuZadOm8cEHH5CcnEzHjh35+OOP8fPzIyQkhIiICAIDA3nllVeYPn06derUITAwkHbt2mWcfX711Vc89NBDHDt2jM8++4xu3boBEBsbS+/evdm5cyeDBg1i1KhRALzzzjtMmjQJgGHDhvHII4+wa9cu+vTpQ8+ePVm+fDlz5sxh1KhRREREICIMHTqURx99lNdee42FCxdSvrzTBWuFChW4++67z/keHnzwQVauXMmpU6e45ZZbePnllwF4+umnmTt3Lv7+/lxzzTWMHTuWr776ipdffhk/Pz8qVKjA4sWLWbRoEWPHjmXSpEkMHjyYgwcP0rp1a7755hvuu+8+xo4dS1hYGD///DOjRo3i9OnT1K9fn88//5yyZcsSEhLC0KFD+fnnnxk+fDh33HFHRmy///47bdu2xd//f4ezGTNm8PDDD/PJJ58QHh5O586d3f6t33rrLZ577jmaNGkCgL+/Pw899JDb5S5k3759xMfHZ2z/rrvuYs6cOfTp08ej5VUVVSUxMZEqVaoQHx9PgwYNAChdujQhISGsWLGCDh06XFKcRS4RfLFiN6dT07n3cs8frTJF0+nTp+nfvz+LFi3KODicUbZsWYYOHcr777+fcVAE2LhxIzNnzmTZsmUEBATw0EMPMX36dO66666MeSIiIvjmm29YvXo1qamptG3blnbt2mVMT01NZcWKFcyfP5+XX36ZX3/9FSDjrL106dK0b9+efv36ISJ8/vnn/PXXX6gqHTt25IorrqBSpUps3ryZzz//nI8//pjIyEj27NlDVFQUAMeOHePEiROcOHHirAR3Pq+++iqVK1cmLS2NXr16sW7dOmrXrs3s2bPZtGkTIpJx22v06NH89NNP1KpV65xbYdWqVWPixImMHTuWefPmnTXt0KFDjBkzhl9//ZUyZcrw5ptv8s477/Diiy8CzvPxS5cuPSe2ZcuWnfX9nTp1it9++41PP/2UY8eOMWPGDI8SQVRUFP/617/czrdw4UIeffTRc8aXLl2aP//886xxe/bsoXbt/5WuqV27Nnv27Ml2vTt37qRNmzaUL1+eMWPG0K1bNwICAvjkk09o2bIlZcqUoWHDhowbNy5jmbCwMJYsWWKJICdS0v7X50Aj63OgwPDkzN0bAgIC6NKlC5999hnvv//+OdNHjhxJ69atzzp4/Pbbb0RGRtK+vdNdx6lTp6hWrdpZyy1dupT+/ftTqpTzEuP1119/1vSbbroJgHbt2rFr166M8VdffTVVqlTJmGfp0qWICAMGDKBMmTIZ45csWcINN9xAcHAwnTp1AqBevXrs2LGDESNG0K9fP6655hoSEhI8fsJk1qxZTJgwgdTUVPbt20d0dDTNmjWjZMmSDBs2jH79+mXca7/88su55557uO222zL2xRPh4eFER0dz+eWXA5CcnHzWAfz222/Pdrl9+/bRtGnTjOF58+bRs2dPSpcuzc0338wrr7zCu+++i5+fX7b7m9OnbHr27MmaNWs8mje721LZba9mzZrs3r2bKlWqEBkZyY033siGDRsoVaoUn3zyCatXr6ZevXqMGDGC119/neeffx5wEuumTZtyFH92vNpGICK9RWSziGwTkaezmS4i8oFr+jpXz2deM3+90+fAULsaMB4oVqwYs2bNYuXKlbz22mvnTK9YsSKDBg3i448/zhinqtx9990Z93o3b97MSy+9dNZy7u5Zlyjh9JHt5+dHampqxvisBxARueC6ziQHgEqVKrF27Vp69OjBuHHjGDZsGOXLl6dMmTLs2LHjgvHs3LmTsWPH8ttvv7Fu3Tr69etHUlIS/v7+rFixgptvvpk5c+bQu3dvwGl3GDNmDLGxsbRu3ZrDhw9fcP1nqCpXX311xncXHR3NZ599lu3+ZFaqVKmz3kCfMWMGv/76KyEhIbRr147Dhw+zcOFCAKpUqcLRo0cz5j1y5AiBgYEANG/enMjISLdxLly4MKNRN/NPly5dzpm3du3axMXFZQzHxcVx2WWXnTNfiRIlMpJ8u3btqF+/Plu2bMlIOPXr10dEuO2228666khKSso4obgUXksErvLV44A+QDNgoIhkbRHqAzR0/dwPfOKteAAmLdtlfQ6YHCldujTz5s1j+vTpZx2Uznjsscf49NNPMw7YvXr14uuvv854oujIkSPExMSctUzXrl35/vvvSUpKIiEhgR9++MGjWH755ReOHDnCqVOnmDNnDpdffjndu3dnzpw5nDx5ksTERGbPnp3RppDZoUOHSE9PzzhDXrVqFQDPPPMM//znP4mPd9pg4uPjmTBhwlnLxsfHU6ZMGSpUqMD+/fv58ccfAUhISOD48eP07duX9957L+OgtX37djp27Mjo0aMJDAwkNjbWo/3r1KkTy5YtY9u2bQCcPHmSLVu2uF2uadOmGcvEx8ezdOlSdu/eza5du9i1axfjxo1jxowZgPMk1NSpUwGn0XnatGn07NkTgCeeeILXXnstY5vp6em8884752zvzBVB1p+st4XAOdMvV64c4eHhqCpTpkyhf//+58x38ODBjEbwHTt2sHXrVurVq0etWrWIjo7OeEHsl19+OevqZ8uWLbRo0cLtd+SON28NdQC2qeoOABH5EugPZH5OrD8wRZ3TmnARqSgiNVV1X24Hs2r3UdbGHmO09Tlgcqhy5cosWLCA7t27Z5w9nhEYGMiAAQN49913AWjWrBljxozhmmuuIT09nYCAAMaNG0dwcHDGMu3bt+eGG24gNDSU4OBgwsLCqFChgts4unbtypAhQ9i2bRuDBg0iLCwMgHvuuSfjHvGwYcNo06bNWbeUwLlXfe+992Y8PfT6668DTiNwQkIC7du3JyAggICAgHPuk4eGhtKmTRuaN29OvXr1Mm7dnDhxgv79+5OUlISqZnwHTzzxBFu3bkVV6dWrF6Ghofzxxx9u969q1apMnjyZgQMHcvr0aQDGjBlDo0aNLrhcnz59GDJkCADffvstV155ZcZVFUD//v158sknOX36NC+88AIPPvggoaGhqCq9e/dm8ODBALRq1Yr33nuPgQMHcvLkSUSEfv36uY3bnU8++YR77rmHU6dO0adPn4yG4rlz5xIREcHo0aNZvHgxL774Iv7+/vj5+TF+/PiMhxBGjRpF9+7dCQgIIDg4mMmTJ2ese9myZRkPDVySM63Suf0D3AJMzDQ8BPgoyzzzgK6Zhn8DwrJZ1/1ABBARFBSkFyNi12Ed8tlfmpCUclHLm7wVHR3t6xC86sSJE6qqmpiYqO3atdPIyEgfR1Sw3XjjjbplyxZfh5GnVq1apYMHD852Wnb/f4AIPc/x2pttBJ4UqvOomJ2qTlDVMFUNq1r14m7rtAuuzJShHazPAZMv3H///bRu3Zq2bdty880307Ztoe77yeveeOMN9u3L9RsJ+dqhQ4d45ZVXcmVd3jwqxgF1Mg3XBvZexDzGFDpffPGFr0MoVBo3bkzjxo19HUaeuvrqq3NtXd68IlgJNBSRuiJSHLgDmJtlnrnAXa6nhzoBx9UL7QOmYFIvvOFqTGF3Mf9vvHZFoKqpIjIc+AmnX4NJqrpBRB5wTR8PzAf6AtuAk8C93orHFCwlS5bk8OHDVKlSxaqQGuMhdfVHULJkyRwtJwXtrCssLExzqxCWyb+shzJjLs75eigTkUhVDctuGWs5NflSQEBAjnpYMsZcvCJZfdQYY8z/WCIwxpgizhKBMcYUcQWusVhEDgIxbmfMXiBwyO1chYvtc9Fg+1w0XMo+B6tqtm/kFrhEcClEJOJ8reaFle1z0WD7XDR4a5/t1pAxxhRxlgiMMaaIK2qJYIL7WQod2+eiwfa5aPDKPhepNgJjjDHnKmpXBMYYY7KwRGCMMUVcoUwEItJbRDaLyDYReTqb6SIiH7imrxORAt8riAf7fKdrX9eJyJ8iEuqLOHOTu33ONF97EUkTkVvyMj5v8GSfRaSHiKwRkQ0i4r6PyHzOg3/bFUTkexFZ69rnAl3FWEQmicgBEYk6z/TcP36dr+uygvqDU/J6O1APKA6sBZplmacv8CNOD2mdgL98HXce7HMXoJLrc5+isM+Z5vsdp+T5Lb6OOw/+zhVx+gUPcg1X83XcebDPzwJvuj5XBY4AxX0d+yXsc3egLRB1num5fvwqjFcEHYBtqrpDVZOBL4H+WebpD0xRRzhQUURq5nWgucjtPqvqn6p61DUYjtMbXEHmyd8ZYATwDXAgL4PzEk/2eRDwraruBlDVgr7fnuyzAuXE6biiLE4iSM3bMHOPqi7G2YfzyfXjV2FMBLWA2EzDca5xOZ2nIMnp/tyHc0ZRkLndZxGpBQwAxudhXN7kyd+5EVBJRBaJSKSI3JVn0XmHJ/v8EdAUp5vb9cDDqpqeN+H5RK4fvwpjfwTZdWeV9RlZT+YpSDzeHxHpiZMIuno1Iu/zZJ/fA55S1bRC0suZJ/vsD7QDegGlgOUiEq6qW7wdnJd4ss/XAmuAK4H6wC8iskRV470cm6/k+vGrMCaCOKBOpuHaOGcKOZ2nIPFof0SkFTAR6KOqh/MoNm/xZJ/DgC9dSSAQ6Csiqao6J08izH2e/ts+pKqJQKKILAZCgYKaCDzZ53uBN9S5gb5NRHYCTYAVeRNinsv141dhvDW0EmgoInVFpDhwBzA3yzxzgbtcre+dgOOqui+vA81FbvdZRIKAb4EhBfjsMDO3+6yqdVU1RFVDgK+BhwpwEgDP/m1/B3QTEX8RKQ10BDbmcZy5yZN93o1zBYSIVAcaAzvyNMq8levHr0J3RaCqqSIyHPgJ54mDSaq6QUQecE0fj/MESV9gG3AS54yiwPJwn18EqgAfu86QU7UAV270cJ8LFU/2WVU3isgCYB2QDkxU1WwfQywIPPw7vwJMFpH1OLdNnlLVAlueWkRmAD2AQBGJA0YBAeC945eVmDDGmCKuMN4aMsYYkwOWCIwxpoizRGCMMUWcJQJjjCniLBEYY0wRZ4mgCHBV3lyT6SfkAvMm5ML2JovITte2VolI54tYx0QRaeb6/GyWaX9eaoyu9Zz5XqJc1Ssrupm/tYj0vYjt1BSRea7PPUTkuIisFpGNIjLqItZ3w5kqnCJy45nvyTU8WkSuyuk6s9nGZHFTrdVVxsLjR5Bd+z7Pg/myrb4pImNF5EpPt2c8Z4mgaDilqq0z/ezKg20+oaqtgaeBT3O6sKoOU9Vo1+CzWaZ1ufTwgP99Ly1winz90838rXGe386px4D/ZBpeoqptcN58Hiwi7XKyMlWdq6pvuAZvBJplmvaiqv56ETHmJ5OB3tmM/xDn35PJZZYIiiARKSsiv7nO1teLyDlVO11nsYsznTF3c42/RkSWu5b9SkTKutncYqCBa9nHXOuKEpFHXOPKiMgP4tSSjxKR213jF4lImIi8AZRyxTHdNS3B9Xtm5jN011nszSLiJyL/FpGV4tRr/4cHX8tyXIW7RKSDOH02rHb9bux6q3U0cLsrlttdsU9ybWd1dt+jy83AgqwjXWUgIoH6rquNcFe8s0WkkiuWkSIS7Rr/pWvcPSLykYh0AW4A/u2Kqf6ZM3kR6SMiszJ9Nz1E5HvX5xz9DUXkRdc+RonIBJGzCjcNdn1HUSLSwTW/p99Lts5XfVNVY4AqIlIjJ+szHsirGtv247sfIA2nKNcaYDbOG+XlXdMCcd5QPPNyYYLr97+A51yf/YByrnkXA2Vc458CXsxme5Nx1f4HbgX+wimEth4og1MqeAPQBucg+Z9My1Zw/V4EhGWOKdM8Z2IcAPzX9bk4TkXGUsD9wPOu8SWACKBuNnEmZNq/r4DeruHygL/r81XAN67P9wAfZVr+NWCw63NFnHo+ZbJsoy4QmWm4BzDP9bkKsAtojvMm8BWu8aOB91yf9wIlzmwjaxyZv+vMw66/8e5Mf6tPgMEX+TesnGn8VOD6TH+j/7g+d8dVP/9830uWfQ/Deev5fP9mQ8imHj/OldXNvv4/Vdh+Cl2JCZOtU+rcpgFARAKA10SkO04ZglpAdeDvTMusBCa55p2jqmtE5Aqc2xDLXCeFxXHOpLPzbxF5HjiIU+20FzBbnbNgRORboBvOmfJYEXkT5yCxJAf79SPwgYiUwLmVsFhVT4nINUCrTPe4KwANgZ1Zli8lImtwDjqRwC+Z5v+viDTEqeoYcJ7tXwPcICKPu4ZLAkGcXdunpus7yKybiKzG+e7fwCkiVlFVz/Qm9l+cxAROgpguInOAOeeJ4xzqlGZYAFwvIl8D/YAngZz8Dc/oKSJPAqWByjhJ/HvXtBmu7S0WkfLitLOc73vJHF8EMMzT/cnkAHDZRSxnLsASQdF0J05PTu1UNUVEduH8Z83g+o/dHecAMlVE/g0cBX5R1YEebOMJVf36zICcpwFTVbe47pH3BV4XkZ9VdbQnO6GqSSKyCKcM8e24Dko49WZGqOpPblZxSlVbi0gFYB5OG8EHOLVrFqrqAHEa1hedZ3nBOTvdfKFtkOW7xWkjuC5jJc72z6cfztn2DcALItL8AvNmNRNnn44AK1X1hOu2jqd/Q0SkJPAxztVZrIi8xNn7k7VGjXKe70WcgnCXqiTOd2pykbURFE0VgAOuJNATCM46g4gEu+b5D/AZTtd54cDlInLmnn9pEWnk4TYXAze6limDc1tniYhcBpxU1WnAWNd2skpxXZlk50ucolvdcAqT4fr94JllRKSRa5vZUtXjwEjgcdcyFYA9rsn3ZJr1BM4tsjN+AkacuWcuIm2yWf0WnCuO83Jt/6i42mGAIcAfIlIMqKOqC3HO5ivi3FbLLGtMmS3C+T7/DycpQM7/hmcO+odcbQlZnyQ606bTFacK5nE8+14uViOgwBbRy68sERRN04EwEYnAuTrYlM08PYA1rlsYNwPvq+pBnAPjDBFZh3NQaeLJBlV1Fc595xU4bQYTVXU10BJY4bpF8xwwJpvFJwDrxNVYnMXPOGfMv6rTlSE4fS5EA6vEeQTxU9xc/bpiWYtT5vgtnKuTZTjtB2csBJqdaSzGuXIIcMUW5RrOut5EYPuZA+8F3I1zO20dztNJo13bniZOVc3VwLuqeizLcl8CT7gaZetn2XYazpVOH9dvcvo3dG3vPzjtO3NwbhlmdlScx3nH49wCBA++F3EeBJiY3TbFqb65HGgsInEicp9rfADOgwcR54vXXByrPmqMl4nIAJzbcM/7OpaCzPU9tlXVF3wdS2FjbQTGeJmqzhaRKr6OoxDwB972dRCFkV0RGGNMEWdtBMYYU8RZIjDGmCLOEoExxhRxlgiMMaaIs0RgjDFF3P8DB76hbDUXeBAAAAAASUVORK5CYII=\n",
      "text/plain": [
       "<Figure size 432x288 with 1 Axes>"
      ]
     },
     "metadata": {
      "needs_background": "light"
     },
     "output_type": "display_data"
    }
   ],
   "source": [
    "RocCurveDisplay.from_estimator(knn, X_test, y_test)"
   ]
  },
  {
   "cell_type": "code",
   "execution_count": 276,
   "id": "53f0f17e",
   "metadata": {},
   "outputs": [
    {
     "data": {
      "text/plain": [
       "<sklearn.metrics._plot.roc_curve.RocCurveDisplay at 0x177962d8730>"
      ]
     },
     "execution_count": 276,
     "metadata": {},
     "output_type": "execute_result"
    },
    {
     "data": {
      "image/png": "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\n",
      "text/plain": [
       "<Figure size 432x288 with 1 Axes>"
      ]
     },
     "metadata": {
      "needs_background": "light"
     },
     "output_type": "display_data"
    }
   ],
   "source": [
    "RocCurveDisplay.from_estimator(log_reg, X_test, y_test)"
   ]
  },
  {
   "cell_type": "code",
   "execution_count": 277,
   "id": "0f86e57a",
   "metadata": {},
   "outputs": [
    {
     "data": {
      "text/plain": [
       "<sklearn.metrics._plot.roc_curve.RocCurveDisplay at 0x17796599f40>"
      ]
     },
     "execution_count": 277,
     "metadata": {},
     "output_type": "execute_result"
    },
    {
     "data": {
      "image/png": "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\n",
      "text/plain": [
       "<Figure size 432x288 with 1 Axes>"
      ]
     },
     "metadata": {
      "needs_background": "light"
     },
     "output_type": "display_data"
    }
   ],
   "source": [
    "RocCurveDisplay.from_estimator(rand_forest, X_test, y_test)"
   ]
  },
  {
   "cell_type": "markdown",
   "id": "db1da19e",
   "metadata": {},
   "source": [
    "Анализируя данные графики, можнно сделать вывод, что оценка AUC показывает довольно плохие результаты для всех моделей, кроме модели \"Случайный лес\"."
   ]
  },
  {
   "cell_type": "markdown",
   "id": "889488fa",
   "metadata": {},
   "source": [
    "# Вывод"
   ]
  },
  {
   "cell_type": "markdown",
   "id": "2fdb2436",
   "metadata": {},
   "source": [
    "В ходе выполнения лабораторной работы изучил алгоритмы и методы классификации на практике.",
   ]
  },
  {
   "cell_type": "code",
   "execution_count": null,
   "id": "20776e59",
   "metadata": {},
   "outputs": [],
   "source": []
  }
 ],
 "metadata": {
  "kernelspec": {
   "display_name": "Python 3 (ipykernel)",
   "language": "python",
   "name": "python3"
  },
  "language_info": {
   "codemirror_mode": {
    "name": "ipython",
    "version": 3
   },
   "file_extension": ".py",
   "mimetype": "text/x-python",
   "name": "python",
   "nbconvert_exporter": "python",
   "pygments_lexer": "ipython3",
   "version": "3.9.12"
  }
 },
 "nbformat": 4,
 "nbformat_minor": 5
}
